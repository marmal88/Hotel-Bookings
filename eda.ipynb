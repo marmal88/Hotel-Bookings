{
 "cells": [
  {
   "cell_type": "markdown",
   "metadata": {},
   "source": [
    "# AIAP11 EDA"
   ]
  },
  {
   "cell_type": "markdown",
   "metadata": {},
   "source": [
    "### Loading required libraries"
   ]
  },
  {
   "cell_type": "code",
   "execution_count": 1,
   "metadata": {},
   "outputs": [],
   "source": [
    "import pandas as pd\n",
    "import matplotlib.pyplot as plt\n",
    "import seaborn as sns\n",
    "import numpy as np\n",
    "from src.extract import ImportData\n",
    "from src.config.config_load import read_yaml_file"
   ]
  },
  {
   "cell_type": "markdown",
   "metadata": {},
   "source": [
    "### Loading dataset"
   ]
  },
  {
   "cell_type": "code",
   "execution_count": 2,
   "metadata": {},
   "outputs": [
    {
     "data": {
      "text/html": [
       "<div>\n",
       "<style scoped>\n",
       "    .dataframe tbody tr th:only-of-type {\n",
       "        vertical-align: middle;\n",
       "    }\n",
       "\n",
       "    .dataframe tbody tr th {\n",
       "        vertical-align: top;\n",
       "    }\n",
       "\n",
       "    .dataframe thead th {\n",
       "        text-align: right;\n",
       "    }\n",
       "</style>\n",
       "<table border=\"1\" class=\"dataframe\">\n",
       "  <thead>\n",
       "    <tr style=\"text-align: right;\">\n",
       "      <th></th>\n",
       "      <th>booking_id</th>\n",
       "      <th>no_show</th>\n",
       "      <th>branch</th>\n",
       "      <th>booking_month</th>\n",
       "      <th>arrival_month</th>\n",
       "      <th>arrival_day</th>\n",
       "      <th>checkout_month</th>\n",
       "      <th>checkout_day</th>\n",
       "      <th>country</th>\n",
       "      <th>first_time</th>\n",
       "      <th>room</th>\n",
       "      <th>price</th>\n",
       "      <th>platform</th>\n",
       "      <th>num_adults</th>\n",
       "      <th>num_children</th>\n",
       "    </tr>\n",
       "  </thead>\n",
       "  <tbody>\n",
       "    <tr>\n",
       "      <th>0</th>\n",
       "      <td>94113</td>\n",
       "      <td>0.0</td>\n",
       "      <td>Changi</td>\n",
       "      <td>November</td>\n",
       "      <td>June</td>\n",
       "      <td>25.0</td>\n",
       "      <td>June</td>\n",
       "      <td>27.0</td>\n",
       "      <td>Singapore</td>\n",
       "      <td>Yes</td>\n",
       "      <td>Single</td>\n",
       "      <td>SGD$ 492.98</td>\n",
       "      <td>Website</td>\n",
       "      <td>1</td>\n",
       "      <td>0.0</td>\n",
       "    </tr>\n",
       "    <tr>\n",
       "      <th>1</th>\n",
       "      <td>86543</td>\n",
       "      <td>0.0</td>\n",
       "      <td>Orchard</td>\n",
       "      <td>August</td>\n",
       "      <td>November</td>\n",
       "      <td>28.0</td>\n",
       "      <td>November</td>\n",
       "      <td>29.0</td>\n",
       "      <td>Indonesia</td>\n",
       "      <td>Yes</td>\n",
       "      <td>King</td>\n",
       "      <td>SGD$ 1351.22</td>\n",
       "      <td>Website</td>\n",
       "      <td>2</td>\n",
       "      <td>0.0</td>\n",
       "    </tr>\n",
       "    <tr>\n",
       "      <th>2</th>\n",
       "      <td>75928</td>\n",
       "      <td>0.0</td>\n",
       "      <td>Changi</td>\n",
       "      <td>March</td>\n",
       "      <td>February</td>\n",
       "      <td>7.0</td>\n",
       "      <td>February</td>\n",
       "      <td>11.0</td>\n",
       "      <td>India</td>\n",
       "      <td>Yes</td>\n",
       "      <td>Single</td>\n",
       "      <td>None</td>\n",
       "      <td>Agent</td>\n",
       "      <td>1</td>\n",
       "      <td>0.0</td>\n",
       "    </tr>\n",
       "    <tr>\n",
       "      <th>3</th>\n",
       "      <td>66947</td>\n",
       "      <td>1.0</td>\n",
       "      <td>Orchard</td>\n",
       "      <td>September</td>\n",
       "      <td>October</td>\n",
       "      <td>1.0</td>\n",
       "      <td>October</td>\n",
       "      <td>3.0</td>\n",
       "      <td>China</td>\n",
       "      <td>Yes</td>\n",
       "      <td>Single</td>\n",
       "      <td>SGD$ 666.04</td>\n",
       "      <td>Website</td>\n",
       "      <td>1</td>\n",
       "      <td>0.0</td>\n",
       "    </tr>\n",
       "    <tr>\n",
       "      <th>4</th>\n",
       "      <td>106390</td>\n",
       "      <td>0.0</td>\n",
       "      <td>Orchard</td>\n",
       "      <td>March</td>\n",
       "      <td>June</td>\n",
       "      <td>20.0</td>\n",
       "      <td>June</td>\n",
       "      <td>24.0</td>\n",
       "      <td>Australia</td>\n",
       "      <td>Yes</td>\n",
       "      <td>Queen</td>\n",
       "      <td>USD$ 665.37</td>\n",
       "      <td>Website</td>\n",
       "      <td>1</td>\n",
       "      <td>0.0</td>\n",
       "    </tr>\n",
       "    <tr>\n",
       "      <th>...</th>\n",
       "      <td>...</td>\n",
       "      <td>...</td>\n",
       "      <td>...</td>\n",
       "      <td>...</td>\n",
       "      <td>...</td>\n",
       "      <td>...</td>\n",
       "      <td>...</td>\n",
       "      <td>...</td>\n",
       "      <td>...</td>\n",
       "      <td>...</td>\n",
       "      <td>...</td>\n",
       "      <td>...</td>\n",
       "      <td>...</td>\n",
       "      <td>...</td>\n",
       "      <td>...</td>\n",
       "    </tr>\n",
       "    <tr>\n",
       "      <th>119386</th>\n",
       "      <td>4823</td>\n",
       "      <td>0.0</td>\n",
       "      <td>Changi</td>\n",
       "      <td>September</td>\n",
       "      <td>April</td>\n",
       "      <td>3.0</td>\n",
       "      <td>April</td>\n",
       "      <td>5.0</td>\n",
       "      <td>China</td>\n",
       "      <td>Yes</td>\n",
       "      <td>King</td>\n",
       "      <td>USD$ 612.18</td>\n",
       "      <td>Website</td>\n",
       "      <td>1</td>\n",
       "      <td>1.0</td>\n",
       "    </tr>\n",
       "    <tr>\n",
       "      <th>119387</th>\n",
       "      <td>25062</td>\n",
       "      <td>0.0</td>\n",
       "      <td>Orchard</td>\n",
       "      <td>March</td>\n",
       "      <td>December</td>\n",
       "      <td>30.0</td>\n",
       "      <td>January</td>\n",
       "      <td>3.0</td>\n",
       "      <td>China</td>\n",
       "      <td>Yes</td>\n",
       "      <td>King</td>\n",
       "      <td>USD$ 1041.29</td>\n",
       "      <td>Email</td>\n",
       "      <td>2</td>\n",
       "      <td>0.0</td>\n",
       "    </tr>\n",
       "    <tr>\n",
       "      <th>119388</th>\n",
       "      <td>81936</td>\n",
       "      <td>1.0</td>\n",
       "      <td>Changi</td>\n",
       "      <td>September</td>\n",
       "      <td>March</td>\n",
       "      <td>31.0</td>\n",
       "      <td>April</td>\n",
       "      <td>1.0</td>\n",
       "      <td>Indonesia</td>\n",
       "      <td>Yes</td>\n",
       "      <td>King</td>\n",
       "      <td>USD$ 641.47</td>\n",
       "      <td>Email</td>\n",
       "      <td>1</td>\n",
       "      <td>2.0</td>\n",
       "    </tr>\n",
       "    <tr>\n",
       "      <th>119389</th>\n",
       "      <td>6738</td>\n",
       "      <td>0.0</td>\n",
       "      <td>Changi</td>\n",
       "      <td>February</td>\n",
       "      <td>February</td>\n",
       "      <td>25.0</td>\n",
       "      <td>February</td>\n",
       "      <td>27.0</td>\n",
       "      <td>China</td>\n",
       "      <td>Yes</td>\n",
       "      <td>None</td>\n",
       "      <td>SGD$ 886.35</td>\n",
       "      <td>Website</td>\n",
       "      <td>2</td>\n",
       "      <td>0.0</td>\n",
       "    </tr>\n",
       "    <tr>\n",
       "      <th>119390</th>\n",
       "      <td>99643</td>\n",
       "      <td>0.0</td>\n",
       "      <td>Changi</td>\n",
       "      <td>March</td>\n",
       "      <td>July</td>\n",
       "      <td>18.0</td>\n",
       "      <td>July</td>\n",
       "      <td>26.0</td>\n",
       "      <td>India</td>\n",
       "      <td>Yes</td>\n",
       "      <td>King</td>\n",
       "      <td>SGD$ 901.95</td>\n",
       "      <td>Website</td>\n",
       "      <td>1</td>\n",
       "      <td>2.0</td>\n",
       "    </tr>\n",
       "  </tbody>\n",
       "</table>\n",
       "<p>119391 rows × 15 columns</p>\n",
       "</div>"
      ],
      "text/plain": [
       "        booking_id  no_show   branch booking_month arrival_month  arrival_day  \\\n",
       "0            94113      0.0   Changi      November          June         25.0   \n",
       "1            86543      0.0  Orchard        August      November         28.0   \n",
       "2            75928      0.0   Changi         March      February          7.0   \n",
       "3            66947      1.0  Orchard     September       October          1.0   \n",
       "4           106390      0.0  Orchard         March          June         20.0   \n",
       "...            ...      ...      ...           ...           ...          ...   \n",
       "119386        4823      0.0   Changi     September         April          3.0   \n",
       "119387       25062      0.0  Orchard         March      December         30.0   \n",
       "119388       81936      1.0   Changi     September         March         31.0   \n",
       "119389        6738      0.0   Changi      February      February         25.0   \n",
       "119390       99643      0.0   Changi         March          July         18.0   \n",
       "\n",
       "       checkout_month  checkout_day    country first_time    room  \\\n",
       "0                June          27.0  Singapore        Yes  Single   \n",
       "1            November          29.0  Indonesia        Yes    King   \n",
       "2            February          11.0      India        Yes  Single   \n",
       "3             October           3.0      China        Yes  Single   \n",
       "4                June          24.0  Australia        Yes   Queen   \n",
       "...               ...           ...        ...        ...     ...   \n",
       "119386          April           5.0      China        Yes    King   \n",
       "119387        January           3.0      China        Yes    King   \n",
       "119388          April           1.0  Indonesia        Yes    King   \n",
       "119389       February          27.0      China        Yes    None   \n",
       "119390           July          26.0      India        Yes    King   \n",
       "\n",
       "               price platform num_adults  num_children  \n",
       "0        SGD$ 492.98  Website          1           0.0  \n",
       "1       SGD$ 1351.22  Website          2           0.0  \n",
       "2               None    Agent          1           0.0  \n",
       "3        SGD$ 666.04  Website          1           0.0  \n",
       "4        USD$ 665.37  Website          1           0.0  \n",
       "...              ...      ...        ...           ...  \n",
       "119386   USD$ 612.18  Website          1           1.0  \n",
       "119387  USD$ 1041.29    Email          2           0.0  \n",
       "119388   USD$ 641.47    Email          1           2.0  \n",
       "119389   SGD$ 886.35  Website          2           0.0  \n",
       "119390   SGD$ 901.95  Website          1           2.0  \n",
       "\n",
       "[119391 rows x 15 columns]"
      ]
     },
     "execution_count": 2,
     "metadata": {},
     "output_type": "execute_result"
    }
   ],
   "source": [
    "# Reading in data location from config file\n",
    "config = read_yaml_file()\n",
    "data_location = config[\"data\"][\"data_location\"]\n",
    "data_table = config[\"data\"][\"data_table\"]\n",
    "\n",
    "# Calling the data from module 1\n",
    "table = ImportData(data_location).return_table(data_table)\n",
    "table"
   ]
  },
  {
   "cell_type": "markdown",
   "metadata": {},
   "source": [
    "### Basic Data Description\n",
    "\n",
    "Wanted to look at:\n",
    "1. Types of categories within the dataset and if they were classified correctly \n",
    "2. Column names and information if it tallies with information provided by AISG \n",
    "3. Any other salient information that might suggest how data was captured and how it was put together"
   ]
  },
  {
   "cell_type": "code",
   "execution_count": 3,
   "metadata": {},
   "outputs": [
    {
     "name": "stdout",
     "output_type": "stream",
     "text": [
      "There are 15 columns in the dataset with 119391 observations\n",
      "There are 5 numerical columns and 10 categorical columns in the dataset\n",
      "There are 46507 empty observations in dataset\n"
     ]
    },
    {
     "data": {
      "text/plain": [
       "booking_id            0\n",
       "no_show               1\n",
       "branch                1\n",
       "booking_month         1\n",
       "arrival_month         1\n",
       "arrival_day           1\n",
       "checkout_month        1\n",
       "checkout_day          1\n",
       "country               1\n",
       "first_time            1\n",
       "room              21613\n",
       "price             24882\n",
       "platform              1\n",
       "num_adults            1\n",
       "num_children          1\n",
       "dtype: int64"
      ]
     },
     "execution_count": 3,
     "metadata": {},
     "output_type": "execute_result"
    }
   ],
   "source": [
    "num_cat = table.select_dtypes(include=[np.number])\n",
    "cat_cat = table.select_dtypes(include=\"object\")\n",
    "for each in cat_cat:\n",
    "    table[each] = table[each].astype(\"category\")\n",
    "\n",
    "print(f\"There are {table.shape[1]} columns in the dataset with {table.shape[0]} observations\")\n",
    "print(f\"There are {num_cat.shape[1]} numerical columns and {cat_cat.shape[1]} categorical columns in the dataset\")\n",
    "print(f\"There are {table.isna().sum().sum()} empty observations in dataset\")\n",
    "\n",
    "table.isna().sum()"
   ]
  },
  {
   "cell_type": "code",
   "execution_count": 4,
   "metadata": {},
   "outputs": [
    {
     "data": {
      "text/plain": [
       "Index(['booking_id', 'no_show', 'branch', 'booking_month', 'arrival_month',\n",
       "       'arrival_day', 'checkout_month', 'checkout_day', 'country',\n",
       "       'first_time', 'room', 'price', 'platform', 'num_adults',\n",
       "       'num_children'],\n",
       "      dtype='object')"
      ]
     },
     "execution_count": 4,
     "metadata": {},
     "output_type": "execute_result"
    }
   ],
   "source": [
    "table.columns"
   ]
  },
  {
   "cell_type": "code",
   "execution_count": 5,
   "metadata": {},
   "outputs": [
    {
     "name": "stdout",
     "output_type": "stream",
     "text": [
      "<class 'pandas.core.frame.DataFrame'>\n",
      "RangeIndex: 119391 entries, 0 to 119390\n",
      "Data columns (total 15 columns):\n",
      " #   Column          Non-Null Count   Dtype   \n",
      "---  ------          --------------   -----   \n",
      " 0   booking_id      119391 non-null  int64   \n",
      " 1   no_show         119390 non-null  float64 \n",
      " 2   branch          119390 non-null  category\n",
      " 3   booking_month   119390 non-null  category\n",
      " 4   arrival_month   119390 non-null  category\n",
      " 5   arrival_day     119390 non-null  float64 \n",
      " 6   checkout_month  119390 non-null  category\n",
      " 7   checkout_day    119390 non-null  float64 \n",
      " 8   country         119390 non-null  category\n",
      " 9   first_time      119390 non-null  category\n",
      " 10  room            97778 non-null   category\n",
      " 11  price           94509 non-null   category\n",
      " 12  platform        119390 non-null  category\n",
      " 13  num_adults      119390 non-null  category\n",
      " 14  num_children    119390 non-null  float64 \n",
      "dtypes: category(10), float64(4), int64(1)\n",
      "memory usage: 8.5 MB\n"
     ]
    }
   ],
   "source": [
    "table.info()"
   ]
  },
  {
   "cell_type": "markdown",
   "metadata": {},
   "source": [
    "### Data Cleaning and Preprocessing\n",
    "Data cleaning steps taken:\n",
    "1. Remove one row that was completly empty within the dataset row number: 115536 (data-entry error or import parsing error)\n",
    "2. Separate price into currency and value to allow for better comparison (data-entry error or database parsing error)\n",
    "3. \"num_adults\" was a freetext field, hence changed [1,2,\"one\", \"two\"] within series into [1,2] (data-entry error)\n",
    "4. Several columns was saved as float in database but should have been integers \n",
    "5. \"first_time\" should be converted to boolean [True, False]\n",
    "6. \"no_show\" should be converted to boolean [True, False]\n",
    "7. There are some checkout days which are negative in value, processed to return positive (date-entry error)\n",
    "8. There seems to be different naming conventions for arrival_months"
   ]
  },
  {
   "cell_type": "code",
   "execution_count": 6,
   "metadata": {},
   "outputs": [
    {
     "name": "stdout",
     "output_type": "stream",
     "text": [
      "table shape before processing (119391, 15)\n",
      "table shape after processing (119390, 14)\n"
     ]
    }
   ],
   "source": [
    "# 1. Remove one row that was completely empty within the dataset row number: 115536\n",
    "# table shape before\n",
    "print(f\"table shape before processing {table.shape}\")\n",
    "\n",
    "# Set booking_id as index\n",
    "table = table.set_index(\"booking_id\")\n",
    "\n",
    "# Removing empty data line table.iloc[table.index[115536], :]\n",
    "table.dropna(how=\"all\", axis=0, inplace=True)\n",
    "\n",
    "# Checking table shape after removal\n",
    "print(f\"table shape after processing {table.shape}\")"
   ]
  },
  {
   "cell_type": "code",
   "execution_count": 7,
   "metadata": {},
   "outputs": [],
   "source": [
    "# 2. Separate price into currency and value to allow for better comparison\n",
    "# Identify the observations which have \"None\" and replace with np.nan\n",
    "table = table.replace([\"None\", \"nan\"], np.nan)\n",
    "\n",
    "# Split out currency from room price\n",
    "table[\"currency\"] = table.price.apply(lambda x: np.nan if x is None else x[:3]).astype(\"category\")\n",
    "\n",
    "# Split out price from price\n",
    "def split_price(price):\n",
    "    \"\"\"Parse out the relevant price from the series\n",
    "    Args:\n",
    "        price (string): price with full currency and price \n",
    "    Returns:\n",
    "        price: float point price\n",
    "    \"\"\"\n",
    "    if price == \"None\" or price is None:\n",
    "        return np.nan\n",
    "    else:\n",
    "        return float(price[5:])\n",
    "\n",
    "table[\"price\"] = table.price.apply(lambda x: split_price(x))\n",
    "\n",
    "# Convert to a single currency base, SGD, historical average currency exchange of 1.3439 was used\n",
    "table[\"SGD_price\"] = np.where(table[\"currency\"] == \"USD\", round(table[\"price\"]*1.3439,2) , table[\"price\"])"
   ]
  },
  {
   "cell_type": "code",
   "execution_count": 8,
   "metadata": {},
   "outputs": [],
   "source": [
    "# 3. \"num_adults\" was a freetext field, hence changed [1,2,\"one\", \"two\"] within series into [1,2]\n",
    "# changing number of adults to integers\n",
    "def chg_to_num(num):\n",
    "    \"\"\"Change numbers from string to integers for use in lambda only\n",
    "    Args:\n",
    "        num (string): string version of integer\n",
    "    Returns:\n",
    "        num: numerical version of string integer\n",
    "    \"\"\"\n",
    "    num_dict = {\"one\":1, 'two':2, 'three':3, 'four':4, 'five':5, 'six':6, 'seven':7, 'eight':8, 'nine':9, 'ten':10}\n",
    "    if num is None:\n",
    "        return np.nan\n",
    "    elif num in num_dict.keys():\n",
    "        return int(num_dict[num])\n",
    "    else:\n",
    "        return int(num)\n",
    "\n",
    "table[\"num_adults\"] = table.num_adults.apply(lambda x: chg_to_num(x))"
   ]
  },
  {
   "cell_type": "code",
   "execution_count": 9,
   "metadata": {},
   "outputs": [],
   "source": [
    "# 4. Several columns was saved as float in database but should have been integers  [\"num_adults\", \"arrival_day\", \"checkout_day\", \"num_children\"]\n",
    "# columns that needs to be changed to integers\n",
    "int_cols = [\"num_adults\", \"arrival_day\", \"checkout_day\", \"num_children\"]\n",
    "\n",
    "# Changed all other data from float to categorical\n",
    "table[int_cols] = table[int_cols].astype(\"int\")"
   ]
  },
  {
   "cell_type": "code",
   "execution_count": 10,
   "metadata": {},
   "outputs": [],
   "source": [
    "# 5. \"first_time\" should be converted to boolean [1,0]\n",
    "def to_bool(non_bool):\n",
    "    if non_bool in (\"Yes\", 1):\n",
    "        return True\n",
    "    return False\n",
    "\n",
    "# change first_time to either True for \"Yes\" or False for \"No\"\n",
    "table[\"first_time\"] = table[\"first_time\"].apply(lambda x: to_bool(x))\n",
    "\n",
    "# 6. \"no_show\" should be converted to boolean [1,0]\n",
    "# change first_time to either True for \"Yes\" or False for \"No\"\n",
    "table[\"no_show\"] = table[\"no_show\"].apply(lambda x: to_bool(x))"
   ]
  },
  {
   "cell_type": "code",
   "execution_count": 11,
   "metadata": {},
   "outputs": [],
   "source": [
    "# 7. There are some checkout days which are negative in value\n",
    "def checkout_neg(num):\n",
    "    \"\"\"For each day provided return the absolute number\n",
    "    Args:\n",
    "        num (integer): checkout day provided\n",
    "    Returns:\n",
    "        num: absolute value of number given\n",
    "    \"\"\"\n",
    "    if num<0:\n",
    "        return abs(num)\n",
    "    else:\n",
    "        return num\n",
    "\n",
    "table[\"checkout_day\"] = table.checkout_day.apply(lambda x: checkout_neg(x))"
   ]
  },
  {
   "cell_type": "code",
   "execution_count": 12,
   "metadata": {},
   "outputs": [],
   "source": [
    "# 8. There seems to be different cases for the same months ['September', 'SepTember', 'SeptemBer']\n",
    "def title_case(month):\n",
    "    \"\"\"Change input into titlecase \n",
    "    Args:\n",
    "        month (string): month input\n",
    "    Returns:\n",
    "        month: month in title case\n",
    "    \"\"\"\n",
    "    if isinstance(month, str):\n",
    "        return month.title()\n",
    "\n",
    "table[\"arrival_month\"] = table[\"arrival_month\"].apply(lambda x: title_case(x)).astype(\"category\")"
   ]
  },
  {
   "cell_type": "code",
   "execution_count": 13,
   "metadata": {},
   "outputs": [
    {
     "name": "stdout",
     "output_type": "stream",
     "text": [
      "<class 'pandas.core.frame.DataFrame'>\n",
      "Int64Index: 119390 entries, 94113 to 99643\n",
      "Data columns (total 16 columns):\n",
      " #   Column          Non-Null Count   Dtype   \n",
      "---  ------          --------------   -----   \n",
      " 0   no_show         119390 non-null  bool    \n",
      " 1   branch          119390 non-null  category\n",
      " 2   booking_month   119390 non-null  category\n",
      " 3   arrival_month   119390 non-null  category\n",
      " 4   arrival_day     119390 non-null  int32   \n",
      " 5   checkout_month  119390 non-null  category\n",
      " 6   checkout_day    119390 non-null  int64   \n",
      " 7   country         119390 non-null  category\n",
      " 8   first_time      119390 non-null  category\n",
      " 9   room            97778 non-null   category\n",
      " 10  price           94509 non-null   float64 \n",
      " 11  platform        119390 non-null  category\n",
      " 12  num_adults      119390 non-null  int32   \n",
      " 13  num_children    119390 non-null  int32   \n",
      " 14  currency        94509 non-null   category\n",
      " 15  SGD_price       94509 non-null   float64 \n",
      "dtypes: bool(1), category(9), float64(2), int32(3), int64(1)\n",
      "memory usage: 6.2 MB\n",
      "None\n"
     ]
    },
    {
     "data": {
      "text/html": [
       "<div>\n",
       "<style scoped>\n",
       "    .dataframe tbody tr th:only-of-type {\n",
       "        vertical-align: middle;\n",
       "    }\n",
       "\n",
       "    .dataframe tbody tr th {\n",
       "        vertical-align: top;\n",
       "    }\n",
       "\n",
       "    .dataframe thead th {\n",
       "        text-align: right;\n",
       "    }\n",
       "</style>\n",
       "<table border=\"1\" class=\"dataframe\">\n",
       "  <thead>\n",
       "    <tr style=\"text-align: right;\">\n",
       "      <th></th>\n",
       "      <th>no_show</th>\n",
       "      <th>branch</th>\n",
       "      <th>booking_month</th>\n",
       "      <th>arrival_month</th>\n",
       "      <th>arrival_day</th>\n",
       "      <th>checkout_month</th>\n",
       "      <th>checkout_day</th>\n",
       "      <th>country</th>\n",
       "      <th>first_time</th>\n",
       "      <th>room</th>\n",
       "      <th>price</th>\n",
       "      <th>platform</th>\n",
       "      <th>num_adults</th>\n",
       "      <th>num_children</th>\n",
       "      <th>currency</th>\n",
       "      <th>SGD_price</th>\n",
       "    </tr>\n",
       "    <tr>\n",
       "      <th>booking_id</th>\n",
       "      <th></th>\n",
       "      <th></th>\n",
       "      <th></th>\n",
       "      <th></th>\n",
       "      <th></th>\n",
       "      <th></th>\n",
       "      <th></th>\n",
       "      <th></th>\n",
       "      <th></th>\n",
       "      <th></th>\n",
       "      <th></th>\n",
       "      <th></th>\n",
       "      <th></th>\n",
       "      <th></th>\n",
       "      <th></th>\n",
       "      <th></th>\n",
       "    </tr>\n",
       "  </thead>\n",
       "  <tbody>\n",
       "    <tr>\n",
       "      <th>94113</th>\n",
       "      <td>False</td>\n",
       "      <td>Changi</td>\n",
       "      <td>November</td>\n",
       "      <td>June</td>\n",
       "      <td>25</td>\n",
       "      <td>June</td>\n",
       "      <td>27</td>\n",
       "      <td>Singapore</td>\n",
       "      <td>True</td>\n",
       "      <td>Single</td>\n",
       "      <td>492.98</td>\n",
       "      <td>Website</td>\n",
       "      <td>1</td>\n",
       "      <td>0</td>\n",
       "      <td>SGD</td>\n",
       "      <td>492.98</td>\n",
       "    </tr>\n",
       "    <tr>\n",
       "      <th>86543</th>\n",
       "      <td>False</td>\n",
       "      <td>Orchard</td>\n",
       "      <td>August</td>\n",
       "      <td>November</td>\n",
       "      <td>28</td>\n",
       "      <td>November</td>\n",
       "      <td>29</td>\n",
       "      <td>Indonesia</td>\n",
       "      <td>True</td>\n",
       "      <td>King</td>\n",
       "      <td>1351.22</td>\n",
       "      <td>Website</td>\n",
       "      <td>2</td>\n",
       "      <td>0</td>\n",
       "      <td>SGD</td>\n",
       "      <td>1351.22</td>\n",
       "    </tr>\n",
       "    <tr>\n",
       "      <th>75928</th>\n",
       "      <td>False</td>\n",
       "      <td>Changi</td>\n",
       "      <td>March</td>\n",
       "      <td>February</td>\n",
       "      <td>7</td>\n",
       "      <td>February</td>\n",
       "      <td>11</td>\n",
       "      <td>India</td>\n",
       "      <td>True</td>\n",
       "      <td>Single</td>\n",
       "      <td>NaN</td>\n",
       "      <td>Agent</td>\n",
       "      <td>1</td>\n",
       "      <td>0</td>\n",
       "      <td>NaN</td>\n",
       "      <td>NaN</td>\n",
       "    </tr>\n",
       "    <tr>\n",
       "      <th>66947</th>\n",
       "      <td>True</td>\n",
       "      <td>Orchard</td>\n",
       "      <td>September</td>\n",
       "      <td>October</td>\n",
       "      <td>1</td>\n",
       "      <td>October</td>\n",
       "      <td>3</td>\n",
       "      <td>China</td>\n",
       "      <td>True</td>\n",
       "      <td>Single</td>\n",
       "      <td>666.04</td>\n",
       "      <td>Website</td>\n",
       "      <td>1</td>\n",
       "      <td>0</td>\n",
       "      <td>SGD</td>\n",
       "      <td>666.04</td>\n",
       "    </tr>\n",
       "    <tr>\n",
       "      <th>106390</th>\n",
       "      <td>False</td>\n",
       "      <td>Orchard</td>\n",
       "      <td>March</td>\n",
       "      <td>June</td>\n",
       "      <td>20</td>\n",
       "      <td>June</td>\n",
       "      <td>24</td>\n",
       "      <td>Australia</td>\n",
       "      <td>True</td>\n",
       "      <td>Queen</td>\n",
       "      <td>665.37</td>\n",
       "      <td>Website</td>\n",
       "      <td>1</td>\n",
       "      <td>0</td>\n",
       "      <td>USD</td>\n",
       "      <td>894.19</td>\n",
       "    </tr>\n",
       "    <tr>\n",
       "      <th>...</th>\n",
       "      <td>...</td>\n",
       "      <td>...</td>\n",
       "      <td>...</td>\n",
       "      <td>...</td>\n",
       "      <td>...</td>\n",
       "      <td>...</td>\n",
       "      <td>...</td>\n",
       "      <td>...</td>\n",
       "      <td>...</td>\n",
       "      <td>...</td>\n",
       "      <td>...</td>\n",
       "      <td>...</td>\n",
       "      <td>...</td>\n",
       "      <td>...</td>\n",
       "      <td>...</td>\n",
       "      <td>...</td>\n",
       "    </tr>\n",
       "    <tr>\n",
       "      <th>4823</th>\n",
       "      <td>False</td>\n",
       "      <td>Changi</td>\n",
       "      <td>September</td>\n",
       "      <td>April</td>\n",
       "      <td>3</td>\n",
       "      <td>April</td>\n",
       "      <td>5</td>\n",
       "      <td>China</td>\n",
       "      <td>True</td>\n",
       "      <td>King</td>\n",
       "      <td>612.18</td>\n",
       "      <td>Website</td>\n",
       "      <td>1</td>\n",
       "      <td>1</td>\n",
       "      <td>USD</td>\n",
       "      <td>822.71</td>\n",
       "    </tr>\n",
       "    <tr>\n",
       "      <th>25062</th>\n",
       "      <td>False</td>\n",
       "      <td>Orchard</td>\n",
       "      <td>March</td>\n",
       "      <td>December</td>\n",
       "      <td>30</td>\n",
       "      <td>January</td>\n",
       "      <td>3</td>\n",
       "      <td>China</td>\n",
       "      <td>True</td>\n",
       "      <td>King</td>\n",
       "      <td>1041.29</td>\n",
       "      <td>Email</td>\n",
       "      <td>2</td>\n",
       "      <td>0</td>\n",
       "      <td>USD</td>\n",
       "      <td>1399.39</td>\n",
       "    </tr>\n",
       "    <tr>\n",
       "      <th>81936</th>\n",
       "      <td>True</td>\n",
       "      <td>Changi</td>\n",
       "      <td>September</td>\n",
       "      <td>March</td>\n",
       "      <td>31</td>\n",
       "      <td>April</td>\n",
       "      <td>1</td>\n",
       "      <td>Indonesia</td>\n",
       "      <td>True</td>\n",
       "      <td>King</td>\n",
       "      <td>641.47</td>\n",
       "      <td>Email</td>\n",
       "      <td>1</td>\n",
       "      <td>2</td>\n",
       "      <td>USD</td>\n",
       "      <td>862.07</td>\n",
       "    </tr>\n",
       "    <tr>\n",
       "      <th>6738</th>\n",
       "      <td>False</td>\n",
       "      <td>Changi</td>\n",
       "      <td>February</td>\n",
       "      <td>February</td>\n",
       "      <td>25</td>\n",
       "      <td>February</td>\n",
       "      <td>27</td>\n",
       "      <td>China</td>\n",
       "      <td>True</td>\n",
       "      <td>NaN</td>\n",
       "      <td>886.35</td>\n",
       "      <td>Website</td>\n",
       "      <td>2</td>\n",
       "      <td>0</td>\n",
       "      <td>SGD</td>\n",
       "      <td>886.35</td>\n",
       "    </tr>\n",
       "    <tr>\n",
       "      <th>99643</th>\n",
       "      <td>False</td>\n",
       "      <td>Changi</td>\n",
       "      <td>March</td>\n",
       "      <td>July</td>\n",
       "      <td>18</td>\n",
       "      <td>July</td>\n",
       "      <td>26</td>\n",
       "      <td>India</td>\n",
       "      <td>True</td>\n",
       "      <td>King</td>\n",
       "      <td>901.95</td>\n",
       "      <td>Website</td>\n",
       "      <td>1</td>\n",
       "      <td>2</td>\n",
       "      <td>SGD</td>\n",
       "      <td>901.95</td>\n",
       "    </tr>\n",
       "  </tbody>\n",
       "</table>\n",
       "<p>119390 rows × 16 columns</p>\n",
       "</div>"
      ],
      "text/plain": [
       "            no_show   branch booking_month arrival_month  arrival_day  \\\n",
       "booking_id                                                              \n",
       "94113         False   Changi      November          June           25   \n",
       "86543         False  Orchard        August      November           28   \n",
       "75928         False   Changi         March      February            7   \n",
       "66947          True  Orchard     September       October            1   \n",
       "106390        False  Orchard         March          June           20   \n",
       "...             ...      ...           ...           ...          ...   \n",
       "4823          False   Changi     September         April            3   \n",
       "25062         False  Orchard         March      December           30   \n",
       "81936          True   Changi     September         March           31   \n",
       "6738          False   Changi      February      February           25   \n",
       "99643         False   Changi         March          July           18   \n",
       "\n",
       "           checkout_month  checkout_day    country first_time    room  \\\n",
       "booking_id                                                              \n",
       "94113                June            27  Singapore       True  Single   \n",
       "86543            November            29  Indonesia       True    King   \n",
       "75928            February            11      India       True  Single   \n",
       "66947             October             3      China       True  Single   \n",
       "106390               June            24  Australia       True   Queen   \n",
       "...                   ...           ...        ...        ...     ...   \n",
       "4823                April             5      China       True    King   \n",
       "25062             January             3      China       True    King   \n",
       "81936               April             1  Indonesia       True    King   \n",
       "6738             February            27      China       True     NaN   \n",
       "99643                July            26      India       True    King   \n",
       "\n",
       "              price platform  num_adults  num_children currency  SGD_price  \n",
       "booking_id                                                                  \n",
       "94113        492.98  Website           1             0      SGD     492.98  \n",
       "86543       1351.22  Website           2             0      SGD    1351.22  \n",
       "75928           NaN    Agent           1             0      NaN        NaN  \n",
       "66947        666.04  Website           1             0      SGD     666.04  \n",
       "106390       665.37  Website           1             0      USD     894.19  \n",
       "...             ...      ...         ...           ...      ...        ...  \n",
       "4823         612.18  Website           1             1      USD     822.71  \n",
       "25062       1041.29    Email           2             0      USD    1399.39  \n",
       "81936        641.47    Email           1             2      USD     862.07  \n",
       "6738         886.35  Website           2             0      SGD     886.35  \n",
       "99643        901.95  Website           1             2      SGD     901.95  \n",
       "\n",
       "[119390 rows x 16 columns]"
      ]
     },
     "execution_count": 13,
     "metadata": {},
     "output_type": "execute_result"
    }
   ],
   "source": [
    "df = table.copy()\n",
    "print(df.info())\n",
    "df"
   ]
  },
  {
   "cell_type": "markdown",
   "metadata": {},
   "source": [
    "### Exploratory Data Analysis\n",
    "\n",
    "#### Relook Objectives of application\n",
    "- **\"Predict the No-Show** of customers to help a hotel chain to formulate policies to **reduce expenses incurred** due to No-Shows\"\n",
    "\n",
    "---\n",
    "#### EDA Thought process\n",
    "1. Classification model limitations \n",
    "    1. [ ] Is data set imbalanced?\n",
    "\n",
    "2. What features should we be looking out for and what feature engineering needs to be done? \n",
    "    1. [x] Are those with children more or less likely to no-show?\n",
    "    2. [x] Are there specific countries that are more likely to no-show?\n",
    "    3. [ ] Which months are no-shows more likely?\n",
    "        - a. [ ] arrival month \n",
    "        - b. [ ] checkout month \n",
    "    4. [x] Is there a difference in no-show between booking platforms?\n",
    "    5. [x] Is there a difference in no-show between the different hotel branches\n",
    "    6. [x] Are first time customers more likely to no-show?\n",
    "    7. [x] Is low room price a reason for no-show?\n",
    "    8. [ ] Is room type a factor for no-show?\n"
   ]
  },
  {
   "cell_type": "markdown",
   "metadata": {},
   "source": [
    "##### 1. Classification Model Limitations"
   ]
  },
  {
   "cell_type": "code",
   "execution_count": 33,
   "metadata": {},
   "outputs": [
    {
     "name": "stdout",
     "output_type": "stream",
     "text": [
      "   no_show  branch  percentage\n",
      "0    False   75166       62.96\n",
      "1     True   44224       37.04\n"
     ]
    },
    {
     "data": {
      "image/png": "[encoded data removed]",
      "text/plain": [
       "<Figure size 360x216 with 1 Axes>"
      ]
     },
     "metadata": {
      "needs_background": "light"
     },
     "output_type": "display_data"
    },
    {
     "name": "stdout",
     "output_type": "stream",
     "text": [
      "Not heavily imbalanced dataset. Overall percentage of no_show is also consistent with industry metrics (e.g. Expedia & Bookings.com)\n"
     ]
    }
   ],
   "source": [
    "# 1. Check id dataset is imbalanced\n",
    "imb = df.groupby(\"no_show\")[\"branch\"].count().reset_index()\n",
    "imb[\"percentage\"] = round((imb.branch / imb.branch.sum()) *100,2)\n",
    "print(imb)\n",
    "\n",
    "# Plot\n",
    "plt.figure(figsize = (5,3))\n",
    "sns.barplot(data=imb, x=\"no_show\", y=\"percentage\").set(title=\"Proportion of show vs no show\")\n",
    "plt.show()\n",
    "\n",
    "# Findings\n",
    "print(\"Not heavily imbalanced dataset. Overall percentage of no_show is also consistent with industry metrics (e.g. Expedia & Bookings.com)\")"
   ]
  },
  {
   "cell_type": "markdown",
   "metadata": {},
   "source": [
    "##### 2. Feature Engineering EDA"
   ]
  },
  {
   "cell_type": "code",
   "execution_count": 15,
   "metadata": {},
   "outputs": [
    {
     "name": "stdout",
     "output_type": "stream",
     "text": [
      "   with_child  no_show  percentage\n",
      "0       False    16264       36.78\n",
      "1        True    27960       63.22\n",
      "Those with children have a 63.22% chance of no show vs those without children 36.78%\n"
     ]
    }
   ],
   "source": [
    "# 1. Are those with children more or less likely to no-show?\n",
    "df[\"with_child\"] = df.num_children.apply(lambda x: True if x>0 else False)\n",
    "child = df.groupby(\"with_child\")[\"no_show\"].sum().reset_index()\n",
    "child[\"percentage\"] = round((child.no_show / child.no_show.sum()) *100,2)\n",
    "print(child)\n",
    "\n",
    "# Findings\n",
    "print(f\"Those with children have a {child.iloc[1,-1]}% chance of no show vs those without children {child.iloc[0,-1]}%\")\n"
   ]
  },
  {
   "cell_type": "code",
   "execution_count": 51,
   "metadata": {},
   "outputs": [
    {
     "name": "stdout",
     "output_type": "stream",
     "text": [
      "     country    sum  count  pct_no_show  prop_no_show\n",
      "0      China  27519  48590        56.64         62.23\n",
      "1   Malaysia   1333   3766        35.40          3.01\n",
      "2  Indonesia   6894  25812        26.71         15.59\n",
      "3  Singapore    939   3912        24.00          2.12\n",
      "4      India   3481  15790        22.05          7.87\n",
      "5  Australia   2453  12129        20.22          5.55\n",
      "6      Japan   1605   9391        17.09          3.63\n"
     ]
    },
    {
     "data": {
      "image/png": "[encoded data removed]",
      "text/plain": [
       "<Figure size 1080x360 with 2 Axes>"
      ]
     },
     "metadata": {
      "needs_background": "light"
     },
     "output_type": "display_data"
    },
    {
     "name": "stdout",
     "output_type": "stream",
     "text": [
      "\n",
      "In terms of overall volume customers from China and Indonesia form the largest bulk of no show customers. \n",
      "However, there also seems to be a high proportion of customers from China and Malaysia who dont turn up\n",
      "\n"
     ]
    }
   ],
   "source": [
    "# 2. Are there specific countries that are more likely to no-show?\n",
    "country = df.groupby(\"country\")[\"no_show\"].agg([\"sum\", \"count\"]).reset_index()\n",
    "country[\"pct_no_show\"] = round((country[\"sum\"]/country[\"count\"])*100,2)\n",
    "country[\"prop_no_show\"] = round((country[\"sum\"]/country[\"sum\"].sum())*100,2)\n",
    "country = country.sort_values(\"pct_no_show\", ascending=False).reset_index(drop=True)\n",
    "print(country)\n",
    "\n",
    "# Plotting\n",
    "plt.figure(figsize = (15,5))\n",
    "plt.subplot(1, 2, 1)\n",
    "sns.barplot(data=country, x=\"country\", y=\"sum\", order=country.sort_values(\"sum\", ascending=False).country).set(title=\"Distribution of no show by Volume and Country\")\n",
    "plt.subplot(1, 2, 2)\n",
    "sns.barplot(data=country, x=\"country\", y=\"pct_no_show\", order=country.sort_values(\"pct_no_show\", ascending=False).country).set(title=\"Percentage of no show by Individual Country\")\n",
    "plt.show()\n",
    "\n",
    "# Findings\n",
    "print(f\"\"\"\n",
    "In terms of overall volume customers from {country.iloc[0, 0]} and {country.iloc[2, 0]} form the largest bulk of no show customers. \n",
    "However, there also seems to be a high proportion of customers from {country.iloc[0, 0]} and {country.iloc[1, 0]} who dont turn up\n",
    "\"\"\")"
   ]
  },
  {
   "cell_type": "code",
   "execution_count": 17,
   "metadata": {},
   "outputs": [
    {
     "name": "stdout",
     "output_type": "stream",
     "text": [
      "   arrival_month   sum  count  pct_no_show\n",
      "6           June  4535  10939        41.46\n",
      "0          April  4524  11089        40.80\n",
      "8            May  4677  11791        39.67\n",
      "11     September  4116  10508        39.17\n",
      "10       October  4246  11160        38.05\n",
      "1         August  5239  13877        37.75\n",
      "5           July  4742  12661        37.45\n",
      "2       December  2371   6780        34.97\n",
      "3       February  2696   8068        33.42\n",
      "7          March  3149   9794        32.15\n",
      "9       November  2122   6794        31.23\n",
      "4        January  1807   5929        30.48\n",
      "The mean 36.38% is close to overall dataset 37.04%\n",
      "There is no obvious trend between arrival month and no shows\n"
     ]
    }
   ],
   "source": [
    "# 3.a Which months are no-shows more likely?\n",
    "months_arr = df.groupby(\"arrival_month\")[\"no_show\"].agg([\"sum\", \"count\"]).reset_index()\n",
    "months_arr[\"pct_no_show\"] = round((months_arr[\"sum\"]/months_arr[\"count\"])*100,2)\n",
    "print(months_arr.sort_values(\"pct_no_show\", ascending=False))\n",
    "\n",
    "# Findings\n",
    "print(f\"The mean {round(months_arr.pct_no_show.mean(),2)}% is close to overall dataset {imb.iloc[1,2]}%\")\n",
    "print(f\"There is no obvious trend between arrival month and no shows\")"
   ]
  },
  {
   "cell_type": "code",
   "execution_count": 18,
   "metadata": {},
   "outputs": [
    {
     "name": "stdout",
     "output_type": "stream",
     "text": [
      "   checkout_month   sum  count  pct_no_show\n",
      "6            June  4497  10692        42.06\n",
      "0           April  4398  11016        39.92\n",
      "8             May  4790  12044        39.77\n",
      "11      September  4003  10416        38.43\n",
      "10        October  4390  11434        38.39\n",
      "1          August  5245  13836        37.91\n",
      "5            July  4803  12760        37.64\n",
      "2        December  2184   6237        35.02\n",
      "7           March  3097   9509        32.57\n",
      "3        February  2508   7716        32.50\n",
      "9        November  2300   7214        31.88\n",
      "4         January  2009   6516        30.83\n",
      "The mean 36.41% is close to overall dataset 37.04%\n",
      "There is no obvious trend between checkout month and no shows\n"
     ]
    }
   ],
   "source": [
    "# 3.a Which months are no-shows more likely?\n",
    "months_checkout = df.groupby(\"checkout_month\")[\"no_show\"].agg([\"sum\", \"count\"]).reset_index()\n",
    "months_checkout[\"pct_no_show\"] = round((months_checkout[\"sum\"]/months_checkout[\"count\"])*100,2)\n",
    "print(months_checkout.sort_values(\"pct_no_show\", ascending=False))\n",
    "\n",
    "# Findings\n",
    "print(f\"The mean {round(months_checkout.pct_no_show.mean(),2)}% is close to overall dataset {imb.iloc[1,2]}%\")\n",
    "print(f\"There is no obvious trend between checkout month and no shows\")"
   ]
  },
  {
   "cell_type": "code",
   "execution_count": 67,
   "metadata": {},
   "outputs": [
    {
     "name": "stdout",
     "output_type": "stream",
     "text": [
      "  platform    sum  count  pct_no_show  prop_no_show\n",
      "0  Website  20050  54234        36.97         45.34\n",
      "1    Email  12214  32608        37.46         27.62\n",
      "2    Agent   8039  21735        36.99         18.18\n",
      "3    Phone   3921  10813        36.26          8.87\n"
     ]
    },
    {
     "data": {
      "image/png": "[encoded data removed]",
      "text/plain": [
       "<Figure size 504x216 with 1 Axes>"
      ]
     },
     "metadata": {
      "needs_background": "light"
     },
     "output_type": "display_data"
    },
    {
     "name": "stdout",
     "output_type": "stream",
     "text": [
      "While the mean percentage across all platfoms is 36.92%, which is close to overall dataset 37.04%\n",
      "However, we can see that Website forms the majority of no shows at 45.34%\n"
     ]
    }
   ],
   "source": [
    "# 4. Is there a difference in no-show between booking platforms?\n",
    "platform = df.groupby(\"platform\")[\"no_show\"].agg([\"sum\", \"count\"]).reset_index()\n",
    "platform[\"pct_no_show\"] = round((platform[\"sum\"]/platform[\"count\"])*100,2)\n",
    "platform[\"prop_no_show\"] = round((platform[\"sum\"]/platform[\"sum\"].sum())*100,2)\n",
    "platform = platform.sort_values(\"prop_no_show\",ascending=False).reset_index(drop=True) \n",
    "print(platform)\n",
    "\n",
    "# Plotting\n",
    "plt.figure(figsize = (7,3))\n",
    "sns.barplot(data=platform, x=\"platform\", y=\"prop_no_show\", order=platform.sort_values(\"prop_no_show\", ascending=False).platform).set(title=\"Proportion of no show by platform\")\n",
    "plt.show()\n",
    "\n",
    "# Findings\n",
    "print(f\"While the mean percentage across all platfoms is {platform.pct_no_show.mean()}%, which is close to overall dataset {imb.iloc[1,2]}%\")\n",
    "print(f\"However, we can see that {platform.iloc[0,0]} forms the majority of no shows at {platform.iloc[0,-1]:.2f}%\")"
   ]
  },
  {
   "cell_type": "code",
   "execution_count": 20,
   "metadata": {},
   "outputs": [
    {
     "name": "stdout",
     "output_type": "stream",
     "text": [
      "    branch    sum  count  pct_no_show  prop_no_show\n",
      "0   Changi  33102  79330        41.73         74.85\n",
      "1  Orchard  11122  40060        27.76         25.15\n"
     ]
    },
    {
     "data": {
      "image/png": "[encoded data removed]",
      "text/plain": [
       "<Figure size 432x288 with 1 Axes>"
      ]
     },
     "metadata": {
      "needs_background": "light"
     },
     "output_type": "display_data"
    },
    {
     "name": "stdout",
     "output_type": "stream",
     "text": [
      "There seems to be more no shows at the Changi Branch as compared to the Orchard Branch\n",
      "Changi branch is also cheaper compared to Orchard across all categories\n"
     ]
    }
   ],
   "source": [
    "# 5. Is there a difference in no-show between the different hotel branches\n",
    "branches = df.groupby(\"branch\")[\"no_show\"].agg([\"sum\", \"count\"]).reset_index()\n",
    "branches[\"pct_no_show\"] = round((branches[\"sum\"]/branches[\"count\"])*100,2)\n",
    "branches[\"prop_no_show\"] = round((branches[\"sum\"]/branches[\"sum\"].sum())*100,2)\n",
    "print(branches)\n",
    "\n",
    "# Wanted to find out if the Changi branch is cheaper than the Orchard branch\n",
    "sns.scatterplot(data=df, x=\"room\", y=\"SGD_price\", hue=\"branch\")\n",
    "plt.show()\n",
    "\n",
    "# Findings\n",
    "print(\"There seems to be more no shows at the Changi Branch as compared to the Orchard Branch\")\n",
    "print(\"Changi branch is also cheaper compared to Orchard across all categories\")"
   ]
  },
  {
   "cell_type": "code",
   "execution_count": 68,
   "metadata": {},
   "outputs": [
    {
     "name": "stdout",
     "output_type": "stream",
     "text": [
      "  first_time    sum   count  pct_no_show  prop_no_show\n",
      "0      False    552    3810        14.49          1.25\n",
      "1       True  43672  115580        37.79         98.75\n"
     ]
    },
    {
     "data": {
      "image/png": "[encoded data removed]",
      "text/plain": [
       "<Figure size 504x216 with 1 Axes>"
      ]
     },
     "metadata": {
      "needs_background": "light"
     },
     "output_type": "display_data"
    },
    {
     "name": "stdout",
     "output_type": "stream",
     "text": [
      "First time customers make up the overwhelming proportion of no show at 98.75%\n"
     ]
    }
   ],
   "source": [
    "# 6. Are first time customers more likely to no-show?\n",
    "first = df.groupby(\"first_time\")[\"no_show\"].agg([\"sum\", \"count\"]).reset_index()\n",
    "first[\"pct_no_show\"] = round((first[\"sum\"]/first[\"count\"])*100,2)\n",
    "first[\"prop_no_show\"] = round((first[\"sum\"]/first[\"sum\"].sum())*100,2)\n",
    "print(first)\n",
    "\n",
    "# Plotting\n",
    "plt.figure(figsize = (7,3))\n",
    "sns.barplot(data=first, x=\"first_time\", y=\"prop_no_show\", order=first.sort_values(\"prop_no_show\", ascending=False).first_time).set(title=\"Proportion of no show by first time visitor to hotel\")\n",
    "plt.show()\n",
    "\n",
    "# Findings\n",
    "print(f\"First time customers make up the overwhelming proportion of no show at {first.iloc[1,-1]}%\")"
   ]
  },
  {
   "cell_type": "code",
   "execution_count": 75,
   "metadata": {},
   "outputs": [
    {
     "name": "stdout",
     "output_type": "stream",
     "text": [
      "Object `show` not found.\n",
      "The interquartile range is 605.75\n",
      "2099.96 998.18 903.83 816.31 392.43\n",
      "The bottom bound (-1.5*IQR) is -516.19 and the top bound (+1.5*IQR) is 1906.8\n",
      "  price_types    sum  count  pct_no_show  prop_no_show\n",
      "0      Lowest   8350  23630        35.34         23.88\n",
      "1       Lower  10023  23624        42.43         28.66\n",
      "2       Upper   9972  23628        42.20         28.51\n",
      "3        High   6627  23626        28.05         18.95\n"
     ]
    },
    {
     "data": {
      "image/png": "[encoded data removed]",
      "text/plain": [
       "<Figure size 817.25x504 with 1 Axes>"
      ]
     },
     "metadata": {
      "needs_background": "light"
     },
     "output_type": "display_data"
    },
    {
     "name": "stdout",
     "output_type": "stream",
     "text": [
      "From the distribution plot we can see that the distribution of the no show is inline with distribution of prices\n"
     ]
    }
   ],
   "source": [
    " 7. Is low room price a reason for no-show?\n",
    "# Since this is a continuous variable, need to discretize the information to understanding distribution\n",
    "# 2 methods were used, 1) Percentile and 2) Equal sized bins\n",
    "\n",
    "# What is the average, minimum and maximum prices?\")\n",
    "# print(df.SGD_price.describe())\n",
    "\n",
    "# Calculating the relevant bin sizes by percentile\n",
    "q4, q3, qm, q2, q1 = np.nanpercentile(df.SGD_price, [100, 75, 50, 25, 0])\n",
    "price_iqr = round(q3-q1,2)\n",
    "top_bound = round(q3+1.5*price_iqr,2)\n",
    "btm_bound = round(q1-1.5*price_iqr,2)\n",
    "print(f\"The interquartile range is {price_iqr}\")\n",
    "print(q4, q3, qm, q2, q1)\n",
    "print(f\"The bottom bound (-1.5*IQR) is {btm_bound} and the top bound (+1.5*IQR) is {top_bound}\")\n",
    "\n",
    "# Bin the SGD prices according to [0-25, 25-50, 50-75, 75-100] values\n",
    "labels = [\"Lowest\", \"Lower\", \"Upper\", \"High\"]\n",
    "bins = [q1, q2, qm, q3, q4]\n",
    "df[\"price_types\"] = pd.cut(df.SGD_price, bins=bins,  labels=labels, ordered=True)\n",
    "\n",
    "# Table of prices cut by equal sizes\n",
    "price_per = df.groupby(\"price_types\")[\"no_show\"].agg([\"sum\", \"count\"]).reset_index()\n",
    "price_per[\"pct_no_show\"] = round((price_per[\"sum\"]/price_per[\"count\"])*100,2)\n",
    "price_per[\"prop_no_show\"] = round((price_per[\"sum\"]/price_per[\"sum\"].sum())*100,2)\n",
    "print(price_per)\n",
    "\n",
    "# Plotting distribution of SGD_Prices and cutting points at quartiles\n",
    "sns.displot(data=df, x=\"SGD_price\", hue=\"no_show\", kde=True, height=7, aspect=12/8).set(title=\"Distribution of SGD prices at quartile intervals\")\n",
    "plt.axvline(q1, 0, 1200, color=\"red\")\n",
    "plt.axvline(q2, 0, 1200, color=\"red\")\n",
    "plt.axvline(qm, 0, 1200, color=\"red\")\n",
    "plt.axvline(q3, 0, 1200, color=\"red\")\n",
    "plt.axvline(q4, 0, 1200, color=\"red\")\n",
    "plt.show()\n",
    "\n",
    "# Findings\n",
    "print(\"\"\"\n",
    "From the distribution plot we can see that the distribution of the no show is inline with distribution of prices, \n",
    "proportion of no show is also more evenly distributed if divided by quartiles\"\"\")"
   ]
  },
  {
   "cell_type": "code",
   "execution_count": 74,
   "metadata": {},
   "outputs": [
    {
     "name": "stdout",
     "output_type": "stream",
     "text": [
      "  price_types    sum  count  pct_no_show  prop_no_show\n",
      "0      Lowest   4883  14932        32.70         13.96\n",
      "1       Lower  24050  57858        41.57         68.77\n",
      "2      Middle   4685  16746        27.98         13.40\n",
      "3       Upper   1124   4262        26.37          3.21\n",
      "4        High    231    711        32.49          0.66\n"
     ]
    },
    {
     "data": {
      "image/png": "[encoded data removed]",
      "text/plain": [
       "<Figure size 817.25x504 with 1 Axes>"
      ]
     },
     "metadata": {
      "needs_background": "light"
     },
     "output_type": "display_data"
    },
    {
     "name": "stdout",
     "output_type": "stream",
     "text": [
      "If divided by equal parts the data is less 'bunched'.\n"
     ]
    }
   ],
   "source": [
    "# 7. Is low room price a reason for no-show? cont'\n",
    "# Bin the SGD prices according to [0-25, 25-50, 50-75, 75-100] values\n",
    "labels = [\"Lowest\", \"Lower\", \"Middle\" ,\"Upper\", \"High\"]\n",
    "df[\"price_types\"] = pd.cut(df.SGD_price, bins=5,  labels=labels, ordered=True)\n",
    "\n",
    "# Table of prices cut by equal sizes\n",
    "price_eq = df.groupby(\"price_types\")[\"no_show\"].agg([\"sum\", \"count\"]).reset_index()\n",
    "price_eq[\"pct_no_show\"] = round((price_eq[\"sum\"]/price_eq[\"count\"])*100,2)\n",
    "price_eq[\"prop_no_show\"] = round((price_eq[\"sum\"]/price_eq[\"sum\"].sum())*100,2)\n",
    "print(price_eq)\n",
    "\n",
    "# Plotting distribution of SGD_Prices and cutting points at equal intervals\n",
    "sns.displot(data=df, x=\"SGD_price\", hue=\"no_show\", kde=True, height=7, aspect=12/8).set(title=\"Distribution of SGD prices at equal intervals\")\n",
    "plt.axvline(390.72247, 0, 1200, color=\"blue\")\n",
    "plt.axvline(733.936, 0, 1200, color=\"blue\")\n",
    "plt.axvline(1075.442, 0, 1200, color=\"blue\")\n",
    "plt.axvline(1416.948, 0, 1200, color=\"blue\")\n",
    "plt.axvline(1758.454, 0, 1200, color=\"blue\")\n",
    "plt.axvline(2099.96, 0, 1200, color=\"blue\")\n",
    "plt.show()\n",
    "\n",
    "# Findings\n",
    "print(\"\"\"\n",
    "If divided by equal parts the data is less 'bunched',\n",
    "also proportionally we can see that certain segments are more likely to no_show\n",
    "\"\"\")"
   ]
  },
  {
   "cell_type": "code",
   "execution_count": 24,
   "metadata": {},
   "outputs": [
    {
     "name": "stdout",
     "output_type": "stream",
     "text": [
      "                   sum  count  pct_no_show\n",
      "room                                      \n",
      "King             27617  70496        39.18\n",
      "Missing           7947  21612        36.77\n",
      "President Suite    261    761        34.30\n",
      "Queen             3394  10824        31.36\n",
      "Single            5005  15697        31.89\n",
      "The mean percentage of no show across rooms is 34.7%, which is close to overall dataset 37.04%\n",
      "There is no obvious trend between room type and not showing up\n"
     ]
    }
   ],
   "source": [
    "# 8. Is room type a factor for no-show?\n",
    "room = df.copy()\n",
    "room[\"room\"] = room.room.astype(str)\n",
    "room[\"room\"] = room.room.replace(\"nan\",\"Missing\")\n",
    "room = room.groupby(\"room\")[\"no_show\"].agg([\"sum\",\"count\"])\n",
    "room[\"pct_no_show\"] = round((room[\"sum\"]/room[\"count\"])*100,2)\n",
    "print(room)\n",
    "\n",
    "# Findings\n",
    "print(f\"The mean percentage of no show across rooms is {round(room.pct_no_show.mean(),2)}%, which is close to overall dataset {imb.iloc[1,2]}%\")\n",
    "print(f\"There is no obvious trend between room type and not showing up\")"
   ]
  }
 ],
 "metadata": {
  "kernelspec": {
   "display_name": "Python 3.9.0 ('aiap11')",
   "language": "python",
   "name": "python3"
  },
  "language_info": {
   "codemirror_mode": {
    "name": "ipython",
    "version": 3
   },
   "file_extension": ".py",
   "mimetype": "text/x-python",
   "name": "python",
   "nbconvert_exporter": "python",
   "pygments_lexer": "ipython3",
   "version": "3.9.0"
  },
  "orig_nbformat": 4,
  "vscode": {
   "interpreter": {
    "hash": "91ac14c5fbae9d9e880b919d322c7c5d56f047ce3dbee4dc0a7ad0e4740eff62"
   }
  }
 },
 "nbformat": 4,
 "nbformat_minor": 2
}
