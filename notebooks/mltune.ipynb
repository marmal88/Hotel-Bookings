{
 "cells": [
  {
   "cell_type": "markdown",
   "metadata": {},
   "source": [
    "## ML Pipeline Finetuning"
   ]
  },
  {
   "cell_type": "markdown",
   "metadata": {},
   "source": [
    "### Import Necessary Libraries"
   ]
  },
  {
   "cell_type": "code",
   "execution_count": 1,
   "metadata": {},
   "outputs": [],
   "source": [
    "import pandas as pd\n",
    "import numpy as np\n",
    "import matplotlib.pyplot as plt\n",
    "from sklearn.model_selection import train_test_split, cross_val_score, GridSearchCV, RandomizedSearchCV\n",
    "from sklearn.linear_model import LogisticRegression\n",
    "from sklearn.preprocessing import OneHotEncoder, OrdinalEncoder, KBinsDiscretizer\n",
    "from sklearn.impute import SimpleImputer\n",
    "from sklearn.compose import ColumnTransformer\n",
    "from sklearn.pipeline import Pipeline\n",
    "from sklearn.tree import DecisionTreeClassifier, plot_tree\n",
    "from sklearn.ensemble import RandomForestClassifier\n",
    "from sklearn.metrics import accuracy_score, precision_score, confusion_matrix, RocCurveDisplay, roc_auc_score, make_scorer\n",
    "\n",
    "from src.app_func.preprocess import Preprocesor"
   ]
  },
  {
   "cell_type": "markdown",
   "metadata": {},
   "source": [
    "### Import Cleaned Data"
   ]
  },
  {
   "cell_type": "code",
   "execution_count": 2,
   "metadata": {},
   "outputs": [],
   "source": [
    "df = Preprocesor().preprocess_df()"
   ]
  },
  {
   "cell_type": "code",
   "execution_count": 3,
   "metadata": {},
   "outputs": [
    {
     "data": {
      "text/plain": [
       "booking_id            0\n",
       "no_show               0\n",
       "branch                0\n",
       "booking_month         0\n",
       "arrival_month         0\n",
       "arrival_day           0\n",
       "checkout_month        0\n",
       "checkout_day          0\n",
       "country               0\n",
       "first_time            0\n",
       "room              21612\n",
       "price             24881\n",
       "platform              0\n",
       "num_adults            0\n",
       "num_children          0\n",
       "currency          24881\n",
       "SGD_price         24881\n",
       "dtype: int64"
      ]
     },
     "execution_count": 3,
     "metadata": {},
     "output_type": "execute_result"
    }
   ],
   "source": [
    "df.isna().sum()"
   ]
  },
  {
   "cell_type": "markdown",
   "metadata": {},
   "source": [
    "### Machine learning models\n",
    "\n",
    "- Try different Machine Learning models\n",
    "- Find a Baseline model for comparison"
   ]
  },
  {
   "cell_type": "code",
   "execution_count": 4,
   "metadata": {},
   "outputs": [],
   "source": [
    "drop = [\"booking_id\", \"booking_month\", \"arrival_month\", \"arrival_day\", \"checkout_month\", \"checkout_day\" , \"price\", \"num_adults\", \"num_children\", \"currency\", \"room\"]\n",
    "df = df.drop(labels=drop, axis=1)"
   ]
  },
  {
   "cell_type": "code",
   "execution_count": 5,
   "metadata": {},
   "outputs": [
    {
     "name": "stdout",
     "output_type": "stream",
     "text": [
      "[ 390.72247  733.936   1075.442   1416.948   1758.454   2099.96   ]\n"
     ]
    }
   ],
   "source": [
    "labels = [\"Lowest\", \"Lower\", \"Middle\" ,\"Upper\", \"High\"]\n",
    "bins=5\n",
    "\n",
    "out, b = pd.cut(df.SGD_price, bins=bins, labels=labels, ordered=True,retbins=True)\n",
    "print(b)"
   ]
  },
  {
   "cell_type": "code",
   "execution_count": 6,
   "metadata": {},
   "outputs": [
    {
     "name": "stdout",
     "output_type": "stream",
     "text": [
      "(119390, 5) (119390,)\n",
      "Index(['branch', 'country', 'first_time', 'platform', 'SGD_price'], dtype='object')\n"
     ]
    }
   ],
   "source": [
    "X = df.drop(columns=[\"no_show\"])\n",
    "Y = df[\"no_show\"]\n",
    "\n",
    "print(X.shape, Y.shape)\n",
    "print(X.columns)"
   ]
  },
  {
   "cell_type": "code",
   "execution_count": 7,
   "metadata": {},
   "outputs": [
    {
     "name": "stdout",
     "output_type": "stream",
     "text": [
      "(83573, 5) (35817, 5) (83573,) (35817,)\n"
     ]
    }
   ],
   "source": [
    "X_train, X_test, y_train, y_test = train_test_split(X, Y, test_size=0.3, random_state=11)\n",
    "\n",
    "print(X_train.shape, X_test.shape, y_train.shape, y_test.shape)"
   ]
  },
  {
   "cell_type": "markdown",
   "metadata": {},
   "source": [
    " - Baseline accuracy if all predictions were 1"
   ]
  },
  {
   "cell_type": "code",
   "execution_count": 8,
   "metadata": {},
   "outputs": [
    {
     "name": "stdout",
     "output_type": "stream",
     "text": [
      "null accuracy\n",
      "Train set: 62.89%, Test set: 63.12% \n"
     ]
    }
   ],
   "source": [
    "# Train set - Null Accuracy\n",
    "null_acc_train = 1 - y_train.sum()/len(y_train)\n",
    "\n",
    "# Test set - Null Accuracy\n",
    "null_acc_test = 1 - y_test.sum()/len(y_test)\n",
    "\n",
    "print(f\"null accuracy\")\n",
    "print(f\"Train set: {null_acc_train*100:.2f}%, Test set: {null_acc_test*100:.2f}% \")"
   ]
  },
  {
   "cell_type": "markdown",
   "metadata": {},
   "source": [
    "### Logistic Regression"
   ]
  },
  {
   "cell_type": "code",
   "execution_count": 10,
   "metadata": {},
   "outputs": [
    {
     "name": "stdout",
     "output_type": "stream",
     "text": [
      "Train Set\n",
      "Accuracy: 69.82%, Precision: 62.42%\n",
      "Test Set\n",
      "Accuracy: 70.03%, Precision: 62.86%\n"
     ]
    }
   ],
   "source": [
    "lr = LogisticRegression(\n",
    "                    penalty=\"l1\",\n",
    "                    solver=\"liblinear\",\n",
    "                    max_iter=50,\n",
    "                    C=0.1,\n",
    "                    random_state=11,\n",
    "                )\n",
    "price_transformer = Pipeline([\n",
    "                            (\"sim1\", SimpleImputer(strategy=\"mean\")),\n",
    "                            (\"bin1\", KBinsDiscretizer(n_bins=5, encode=\"ordinal\", strategy=\"uniform\"))\n",
    "                        ])\n",
    "ct = ColumnTransformer(\n",
    "                [\n",
    "                    (\"ohe1\", OneHotEncoder(drop=\"first\"), [\"branch\", \"first_time\", \"platform\"]),\n",
    "                    (\"ore1\", OrdinalEncoder(encoded_missing_value=-1), [\"country\"]),\n",
    "                    (\"num1\", price_transformer, [\"SGD_price\"])\n",
    "                ],\n",
    "                remainder=\"drop\",\n",
    "            )\n",
    "lr_pipe = Pipeline([(\"column_transfomer\", ct), (\"classifier\", lr)])\n",
    "lr_pipe.fit(X_train, y_train)\n",
    "y_pred_train = lr_pipe.predict(X_train)\n",
    "\n",
    "acc_train = accuracy_score(y_train, y_pred_train)\n",
    "prec_train = precision_score(y_train, y_pred_train)\n",
    "print(\"Train Set\")\n",
    "print(f\"Accuracy: {acc_train*100:.2f}%, Precision: {prec_train*100:.2f}%\")\n",
    "\n",
    "lr_pipe.fit(X_test, y_test)\n",
    "y_pred_test = lr_pipe.predict(X_test)\n",
    "\n",
    "acc_test = accuracy_score(y_test, y_pred_test)\n",
    "prec_test = precision_score(y_test, y_pred_test)\n",
    "print(\"Test Set\")\n",
    "print(f\"Accuracy: {acc_test*100:.2f}%, Precision: {prec_test*100:.2f}%\")"
   ]
  },
  {
   "cell_type": "markdown",
   "metadata": {},
   "source": [
    "- Grid Search for Logistic Regression"
   ]
  },
  {
   "cell_type": "code",
   "execution_count": 11,
   "metadata": {},
   "outputs": [
    {
     "name": "stdout",
     "output_type": "stream",
     "text": [
      "Intercept: [-0.94090282]\n"
     ]
    },
    {
     "data": {
      "text/html": [
       "<div>\n",
       "<style scoped>\n",
       "    .dataframe tbody tr th:only-of-type {\n",
       "        vertical-align: middle;\n",
       "    }\n",
       "\n",
       "    .dataframe tbody tr th {\n",
       "        vertical-align: top;\n",
       "    }\n",
       "\n",
       "    .dataframe thead th {\n",
       "        text-align: right;\n",
       "    }\n",
       "</style>\n",
       "<table border=\"1\" class=\"dataframe\">\n",
       "  <thead>\n",
       "    <tr style=\"text-align: right;\">\n",
       "      <th></th>\n",
       "      <th>features</th>\n",
       "      <th>coefficients</th>\n",
       "    </tr>\n",
       "  </thead>\n",
       "  <tbody>\n",
       "    <tr>\n",
       "      <th>0</th>\n",
       "      <td>branch</td>\n",
       "      <td>[-0.8608327582109612]</td>\n",
       "    </tr>\n",
       "    <tr>\n",
       "      <th>1</th>\n",
       "      <td>country</td>\n",
       "      <td>[1.2277305215133554]</td>\n",
       "    </tr>\n",
       "    <tr>\n",
       "      <th>2</th>\n",
       "      <td>first_time</td>\n",
       "      <td>[0.0]</td>\n",
       "    </tr>\n",
       "    <tr>\n",
       "      <th>3</th>\n",
       "      <td>platform</td>\n",
       "      <td>[0.0]</td>\n",
       "    </tr>\n",
       "    <tr>\n",
       "      <th>4</th>\n",
       "      <td>SGD_price</td>\n",
       "      <td>[0.0027265562584785448]</td>\n",
       "    </tr>\n",
       "  </tbody>\n",
       "</table>\n",
       "</div>"
      ],
      "text/plain": [
       "     features             coefficients\n",
       "0      branch    [-0.8608327582109612]\n",
       "1     country     [1.2277305215133554]\n",
       "2  first_time                    [0.0]\n",
       "3    platform                    [0.0]\n",
       "4   SGD_price  [0.0027265562584785448]"
      ]
     },
     "execution_count": 11,
     "metadata": {},
     "output_type": "execute_result"
    }
   ],
   "source": [
    "lr_coef = pd.DataFrame(zip(X_train.columns, np.transpose(lr.coef_)), columns=['features', 'coefficients'])\n",
    "\n",
    "print(f\"Intercept: {lr.intercept_}\")\n",
    "lr_coef"
   ]
  },
  {
   "cell_type": "code",
   "execution_count": 12,
   "metadata": {},
   "outputs": [
    {
     "data": {
      "text/plain": [
       "0.6281769819802969"
      ]
     },
     "execution_count": 12,
     "metadata": {},
     "output_type": "execute_result"
    }
   ],
   "source": [
    "cross_val_score(lr_pipe, X, Y, cv=5, scoring=\"precision\").mean()"
   ]
  },
  {
   "cell_type": "code",
   "execution_count": 13,
   "metadata": {},
   "outputs": [
    {
     "name": "stdout",
     "output_type": "stream",
     "text": [
      "Best Score: 0.6995\n",
      "Best Prams {'classifier__C': 0.1, 'classifier__max_iter': 50, 'classifier__penalty': 'l1'}\n"
     ]
    },
    {
     "data": {
      "text/html": [
       "<style>#sk-container-id-1 {color: black;background-color: white;}#sk-container-id-1 pre{padding: 0;}#sk-container-id-1 div.sk-toggleable {background-color: white;}#sk-container-id-1 label.sk-toggleable__label {cursor: pointer;display: block;width: 100%;margin-bottom: 0;padding: 0.3em;box-sizing: border-box;text-align: center;}#sk-container-id-1 label.sk-toggleable__label-arrow:before {content: \"▸\";float: left;margin-right: 0.25em;color: #696969;}#sk-container-id-1 label.sk-toggleable__label-arrow:hover:before {color: black;}#sk-container-id-1 div.sk-estimator:hover label.sk-toggleable__label-arrow:before {color: black;}#sk-container-id-1 div.sk-toggleable__content {max-height: 0;max-width: 0;overflow: hidden;text-align: left;background-color: #f0f8ff;}#sk-container-id-1 div.sk-toggleable__content pre {margin: 0.2em;color: black;border-radius: 0.25em;background-color: #f0f8ff;}#sk-container-id-1 input.sk-toggleable__control:checked~div.sk-toggleable__content {max-height: 200px;max-width: 100%;overflow: auto;}#sk-container-id-1 input.sk-toggleable__control:checked~label.sk-toggleable__label-arrow:before {content: \"▾\";}#sk-container-id-1 div.sk-estimator input.sk-toggleable__control:checked~label.sk-toggleable__label {background-color: #d4ebff;}#sk-container-id-1 div.sk-label input.sk-toggleable__control:checked~label.sk-toggleable__label {background-color: #d4ebff;}#sk-container-id-1 input.sk-hidden--visually {border: 0;clip: rect(1px 1px 1px 1px);clip: rect(1px, 1px, 1px, 1px);height: 1px;margin: -1px;overflow: hidden;padding: 0;position: absolute;width: 1px;}#sk-container-id-1 div.sk-estimator {font-family: monospace;background-color: #f0f8ff;border: 1px dotted black;border-radius: 0.25em;box-sizing: border-box;margin-bottom: 0.5em;}#sk-container-id-1 div.sk-estimator:hover {background-color: #d4ebff;}#sk-container-id-1 div.sk-parallel-item::after {content: \"\";width: 100%;border-bottom: 1px solid gray;flex-grow: 1;}#sk-container-id-1 div.sk-label:hover label.sk-toggleable__label {background-color: #d4ebff;}#sk-container-id-1 div.sk-serial::before {content: \"\";position: absolute;border-left: 1px solid gray;box-sizing: border-box;top: 0;bottom: 0;left: 50%;z-index: 0;}#sk-container-id-1 div.sk-serial {display: flex;flex-direction: column;align-items: center;background-color: white;padding-right: 0.2em;padding-left: 0.2em;position: relative;}#sk-container-id-1 div.sk-item {position: relative;z-index: 1;}#sk-container-id-1 div.sk-parallel {display: flex;align-items: stretch;justify-content: center;background-color: white;position: relative;}#sk-container-id-1 div.sk-item::before, #sk-container-id-1 div.sk-parallel-item::before {content: \"\";position: absolute;border-left: 1px solid gray;box-sizing: border-box;top: 0;bottom: 0;left: 50%;z-index: -1;}#sk-container-id-1 div.sk-parallel-item {display: flex;flex-direction: column;z-index: 1;position: relative;background-color: white;}#sk-container-id-1 div.sk-parallel-item:first-child::after {align-self: flex-end;width: 50%;}#sk-container-id-1 div.sk-parallel-item:last-child::after {align-self: flex-start;width: 50%;}#sk-container-id-1 div.sk-parallel-item:only-child::after {width: 0;}#sk-container-id-1 div.sk-dashed-wrapped {border: 1px dashed gray;margin: 0 0.4em 0.5em 0.4em;box-sizing: border-box;padding-bottom: 0.4em;background-color: white;}#sk-container-id-1 div.sk-label label {font-family: monospace;font-weight: bold;display: inline-block;line-height: 1.2em;}#sk-container-id-1 div.sk-label-container {text-align: center;}#sk-container-id-1 div.sk-container {/* jupyter's `normalize.less` sets `[hidden] { display: none; }` but bootstrap.min.css set `[hidden] { display: none !important; }` so we also need the `!important` here to be able to override the default hidden behavior on the sphinx rendered scikit-learn.org. See: https://github.com/scikit-learn/scikit-learn/issues/21755 */display: inline-block !important;position: relative;}#sk-container-id-1 div.sk-text-repr-fallback {display: none;}</style><div id=\"sk-container-id-1\" class=\"sk-top-container\"><div class=\"sk-text-repr-fallback\"><pre>Pipeline(steps=[(&#x27;column_transfomer&#x27;,\n",
       "                 ColumnTransformer(transformers=[(&#x27;ohe1&#x27;,\n",
       "                                                  OneHotEncoder(drop=&#x27;first&#x27;),\n",
       "                                                  [&#x27;branch&#x27;, &#x27;first_time&#x27;,\n",
       "                                                   &#x27;platform&#x27;]),\n",
       "                                                 (&#x27;ore1&#x27;,\n",
       "                                                  OrdinalEncoder(encoded_missing_value=-1),\n",
       "                                                  [&#x27;country&#x27;]),\n",
       "                                                 (&#x27;num1&#x27;,\n",
       "                                                  Pipeline(steps=[(&#x27;sim1&#x27;,\n",
       "                                                                   SimpleImputer()),\n",
       "                                                                  (&#x27;bin1&#x27;,\n",
       "                                                                   KBinsDiscretizer(encode=&#x27;ordinal&#x27;,\n",
       "                                                                                    strategy=&#x27;uniform&#x27;))]),\n",
       "                                                  [&#x27;SGD_price&#x27;])])),\n",
       "                (&#x27;classifier&#x27;,\n",
       "                 LogisticRegression(C=0.1, max_iter=50, penalty=&#x27;l1&#x27;,\n",
       "                                    random_state=11, solver=&#x27;liblinear&#x27;))])</pre><b>In a Jupyter environment, please rerun this cell to show the HTML representation or trust the notebook. <br />On GitHub, the HTML representation is unable to render, please try loading this page with nbviewer.org.</b></div><div class=\"sk-container\" hidden><div class=\"sk-item sk-dashed-wrapped\"><div class=\"sk-label-container\"><div class=\"sk-label sk-toggleable\"><input class=\"sk-toggleable__control sk-hidden--visually\" id=\"sk-estimator-id-1\" type=\"checkbox\" ><label for=\"sk-estimator-id-1\" class=\"sk-toggleable__label sk-toggleable__label-arrow\">Pipeline</label><div class=\"sk-toggleable__content\"><pre>Pipeline(steps=[(&#x27;column_transfomer&#x27;,\n",
       "                 ColumnTransformer(transformers=[(&#x27;ohe1&#x27;,\n",
       "                                                  OneHotEncoder(drop=&#x27;first&#x27;),\n",
       "                                                  [&#x27;branch&#x27;, &#x27;first_time&#x27;,\n",
       "                                                   &#x27;platform&#x27;]),\n",
       "                                                 (&#x27;ore1&#x27;,\n",
       "                                                  OrdinalEncoder(encoded_missing_value=-1),\n",
       "                                                  [&#x27;country&#x27;]),\n",
       "                                                 (&#x27;num1&#x27;,\n",
       "                                                  Pipeline(steps=[(&#x27;sim1&#x27;,\n",
       "                                                                   SimpleImputer()),\n",
       "                                                                  (&#x27;bin1&#x27;,\n",
       "                                                                   KBinsDiscretizer(encode=&#x27;ordinal&#x27;,\n",
       "                                                                                    strategy=&#x27;uniform&#x27;))]),\n",
       "                                                  [&#x27;SGD_price&#x27;])])),\n",
       "                (&#x27;classifier&#x27;,\n",
       "                 LogisticRegression(C=0.1, max_iter=50, penalty=&#x27;l1&#x27;,\n",
       "                                    random_state=11, solver=&#x27;liblinear&#x27;))])</pre></div></div></div><div class=\"sk-serial\"><div class=\"sk-item sk-dashed-wrapped\"><div class=\"sk-label-container\"><div class=\"sk-label sk-toggleable\"><input class=\"sk-toggleable__control sk-hidden--visually\" id=\"sk-estimator-id-2\" type=\"checkbox\" ><label for=\"sk-estimator-id-2\" class=\"sk-toggleable__label sk-toggleable__label-arrow\">column_transfomer: ColumnTransformer</label><div class=\"sk-toggleable__content\"><pre>ColumnTransformer(transformers=[(&#x27;ohe1&#x27;, OneHotEncoder(drop=&#x27;first&#x27;),\n",
       "                                 [&#x27;branch&#x27;, &#x27;first_time&#x27;, &#x27;platform&#x27;]),\n",
       "                                (&#x27;ore1&#x27;,\n",
       "                                 OrdinalEncoder(encoded_missing_value=-1),\n",
       "                                 [&#x27;country&#x27;]),\n",
       "                                (&#x27;num1&#x27;,\n",
       "                                 Pipeline(steps=[(&#x27;sim1&#x27;, SimpleImputer()),\n",
       "                                                 (&#x27;bin1&#x27;,\n",
       "                                                  KBinsDiscretizer(encode=&#x27;ordinal&#x27;,\n",
       "                                                                   strategy=&#x27;uniform&#x27;))]),\n",
       "                                 [&#x27;SGD_price&#x27;])])</pre></div></div></div><div class=\"sk-parallel\"><div class=\"sk-parallel-item\"><div class=\"sk-item\"><div class=\"sk-label-container\"><div class=\"sk-label sk-toggleable\"><input class=\"sk-toggleable__control sk-hidden--visually\" id=\"sk-estimator-id-3\" type=\"checkbox\" ><label for=\"sk-estimator-id-3\" class=\"sk-toggleable__label sk-toggleable__label-arrow\">ohe1</label><div class=\"sk-toggleable__content\"><pre>[&#x27;branch&#x27;, &#x27;first_time&#x27;, &#x27;platform&#x27;]</pre></div></div></div><div class=\"sk-serial\"><div class=\"sk-item\"><div class=\"sk-estimator sk-toggleable\"><input class=\"sk-toggleable__control sk-hidden--visually\" id=\"sk-estimator-id-4\" type=\"checkbox\" ><label for=\"sk-estimator-id-4\" class=\"sk-toggleable__label sk-toggleable__label-arrow\">OneHotEncoder</label><div class=\"sk-toggleable__content\"><pre>OneHotEncoder(drop=&#x27;first&#x27;)</pre></div></div></div></div></div></div><div class=\"sk-parallel-item\"><div class=\"sk-item\"><div class=\"sk-label-container\"><div class=\"sk-label sk-toggleable\"><input class=\"sk-toggleable__control sk-hidden--visually\" id=\"sk-estimator-id-5\" type=\"checkbox\" ><label for=\"sk-estimator-id-5\" class=\"sk-toggleable__label sk-toggleable__label-arrow\">ore1</label><div class=\"sk-toggleable__content\"><pre>[&#x27;country&#x27;]</pre></div></div></div><div class=\"sk-serial\"><div class=\"sk-item\"><div class=\"sk-estimator sk-toggleable\"><input class=\"sk-toggleable__control sk-hidden--visually\" id=\"sk-estimator-id-6\" type=\"checkbox\" ><label for=\"sk-estimator-id-6\" class=\"sk-toggleable__label sk-toggleable__label-arrow\">OrdinalEncoder</label><div class=\"sk-toggleable__content\"><pre>OrdinalEncoder(encoded_missing_value=-1)</pre></div></div></div></div></div></div><div class=\"sk-parallel-item\"><div class=\"sk-item\"><div class=\"sk-label-container\"><div class=\"sk-label sk-toggleable\"><input class=\"sk-toggleable__control sk-hidden--visually\" id=\"sk-estimator-id-7\" type=\"checkbox\" ><label for=\"sk-estimator-id-7\" class=\"sk-toggleable__label sk-toggleable__label-arrow\">num1</label><div class=\"sk-toggleable__content\"><pre>[&#x27;SGD_price&#x27;]</pre></div></div></div><div class=\"sk-serial\"><div class=\"sk-item\"><div class=\"sk-serial\"><div class=\"sk-item\"><div class=\"sk-estimator sk-toggleable\"><input class=\"sk-toggleable__control sk-hidden--visually\" id=\"sk-estimator-id-8\" type=\"checkbox\" ><label for=\"sk-estimator-id-8\" class=\"sk-toggleable__label sk-toggleable__label-arrow\">SimpleImputer</label><div class=\"sk-toggleable__content\"><pre>SimpleImputer()</pre></div></div></div><div class=\"sk-item\"><div class=\"sk-estimator sk-toggleable\"><input class=\"sk-toggleable__control sk-hidden--visually\" id=\"sk-estimator-id-9\" type=\"checkbox\" ><label for=\"sk-estimator-id-9\" class=\"sk-toggleable__label sk-toggleable__label-arrow\">KBinsDiscretizer</label><div class=\"sk-toggleable__content\"><pre>KBinsDiscretizer(encode=&#x27;ordinal&#x27;, strategy=&#x27;uniform&#x27;)</pre></div></div></div></div></div></div></div></div></div></div><div class=\"sk-item\"><div class=\"sk-estimator sk-toggleable\"><input class=\"sk-toggleable__control sk-hidden--visually\" id=\"sk-estimator-id-10\" type=\"checkbox\" ><label for=\"sk-estimator-id-10\" class=\"sk-toggleable__label sk-toggleable__label-arrow\">LogisticRegression</label><div class=\"sk-toggleable__content\"><pre>LogisticRegression(C=0.1, max_iter=50, penalty=&#x27;l1&#x27;, random_state=11,\n",
       "                   solver=&#x27;liblinear&#x27;)</pre></div></div></div></div></div></div></div>"
      ],
      "text/plain": [
       "Pipeline(steps=[('column_transfomer',\n",
       "                 ColumnTransformer(transformers=[('ohe1',\n",
       "                                                  OneHotEncoder(drop='first'),\n",
       "                                                  ['branch', 'first_time',\n",
       "                                                   'platform']),\n",
       "                                                 ('ore1',\n",
       "                                                  OrdinalEncoder(encoded_missing_value=-1),\n",
       "                                                  ['country']),\n",
       "                                                 ('num1',\n",
       "                                                  Pipeline(steps=[('sim1',\n",
       "                                                                   SimpleImputer()),\n",
       "                                                                  ('bin1',\n",
       "                                                                   KBinsDiscretizer(encode='ordinal',\n",
       "                                                                                    strategy='uniform'))]),\n",
       "                                                  ['SGD_price'])])),\n",
       "                ('classifier',\n",
       "                 LogisticRegression(C=0.1, max_iter=50, penalty='l1',\n",
       "                                    random_state=11, solver='liblinear'))])"
      ]
     },
     "execution_count": 13,
     "metadata": {},
     "output_type": "execute_result"
    }
   ],
   "source": [
    "params = {}\n",
    "params[\"classifier__C\"] = [0.1, 1, 10]\n",
    "params[\"classifier__penalty\"] = [\"l1\", \"l2\"]\n",
    "params[\"classifier__max_iter\"] = [50,100,150,200]\n",
    "\n",
    "grid = GridSearchCV(lr_pipe, cv=5, param_grid=params)\n",
    "grid.fit(X, Y)\n",
    "print(f\"Best Score: {grid.best_score_:.4f}\")\n",
    "print(f\"Best Prams {grid.best_params_}\")\n",
    "grid.best_estimator_"
   ]
  },
  {
   "cell_type": "markdown",
   "metadata": {},
   "source": [
    "### Decision Tree"
   ]
  },
  {
   "cell_type": "code",
   "execution_count": 14,
   "metadata": {},
   "outputs": [
    {
     "name": "stdout",
     "output_type": "stream",
     "text": [
      "Train Set\n",
      "Accuracy: 71.75%, Precision: 69.23%\n",
      "Test Set\n",
      "Accuracy: 71.85%, Precision: 69.48%\n"
     ]
    }
   ],
   "source": [
    "dt = DecisionTreeClassifier(\n",
    "                    max_depth=5,\n",
    "                    min_samples_split=3,\n",
    "                    min_samples_leaf=10,\n",
    "                    criterion='log_loss',\n",
    "                    splitter='best',\n",
    "                    random_state=11,\n",
    "                )\n",
    "price_transformer = Pipeline([\n",
    "                            (\"sim1\", SimpleImputer(strategy=\"mean\")),\n",
    "                            (\"bin1\", KBinsDiscretizer(n_bins=5, encode=\"ordinal\", strategy=\"uniform\"))\n",
    "                        ])\n",
    "ct = ColumnTransformer(\n",
    "                [\n",
    "                    (\"ore2\", OrdinalEncoder(encoded_missing_value=-1), [\"branch\", \"first_time\", \"platform\", \"country\"]),\n",
    "                    (\"num2\", price_transformer, [\"SGD_price\"])\n",
    "                ],\n",
    "                remainder=\"drop\",\n",
    "            )\n",
    "dt_pipe = Pipeline([(\"column_transfomer\", ct), (\"classifier\", dt)])\n",
    "dt_pipe.fit(X_train, y_train)\n",
    "y_pred_train = dt_pipe.predict(X_train)\n",
    "\n",
    "acc_train = accuracy_score(y_train, y_pred_train)\n",
    "prec_train = precision_score(y_train, y_pred_train, zero_division=0)\n",
    "print(\"Train Set\")\n",
    "print(f\"Accuracy: {acc_train*100:.2f}%, Precision: {prec_train*100:.2f}%\")\n",
    "\n",
    "dt_pipe.fit(X_test, y_test)\n",
    "y_pred_test = dt_pipe.predict(X_test)\n",
    "\n",
    "acc_test = accuracy_score(y_test, y_pred_test)\n",
    "prec_test = precision_score(y_test, y_pred_test, zero_division=0)\n",
    "print(\"Test Set\")\n",
    "print(f\"Accuracy: {acc_test*100:.2f}%, Precision: {prec_test*100:.2f}%\")"
   ]
  },
  {
   "cell_type": "code",
   "execution_count": 15,
   "metadata": {},
   "outputs": [
    {
     "data": {
      "text/html": [
       "<div>\n",
       "<style scoped>\n",
       "    .dataframe tbody tr th:only-of-type {\n",
       "        vertical-align: middle;\n",
       "    }\n",
       "\n",
       "    .dataframe tbody tr th {\n",
       "        vertical-align: top;\n",
       "    }\n",
       "\n",
       "    .dataframe thead th {\n",
       "        text-align: right;\n",
       "    }\n",
       "</style>\n",
       "<table border=\"1\" class=\"dataframe\">\n",
       "  <thead>\n",
       "    <tr style=\"text-align: right;\">\n",
       "      <th></th>\n",
       "      <th>features</th>\n",
       "      <th>feature_importances</th>\n",
       "    </tr>\n",
       "  </thead>\n",
       "  <tbody>\n",
       "    <tr>\n",
       "      <th>3</th>\n",
       "      <td>platform</td>\n",
       "      <td>0.670489</td>\n",
       "    </tr>\n",
       "    <tr>\n",
       "      <th>0</th>\n",
       "      <td>branch</td>\n",
       "      <td>0.165269</td>\n",
       "    </tr>\n",
       "    <tr>\n",
       "      <th>1</th>\n",
       "      <td>country</td>\n",
       "      <td>0.111167</td>\n",
       "    </tr>\n",
       "    <tr>\n",
       "      <th>4</th>\n",
       "      <td>SGD_price</td>\n",
       "      <td>0.051004</td>\n",
       "    </tr>\n",
       "    <tr>\n",
       "      <th>2</th>\n",
       "      <td>first_time</td>\n",
       "      <td>0.002071</td>\n",
       "    </tr>\n",
       "  </tbody>\n",
       "</table>\n",
       "</div>"
      ],
      "text/plain": [
       "     features  feature_importances\n",
       "3    platform             0.670489\n",
       "0      branch             0.165269\n",
       "1     country             0.111167\n",
       "4   SGD_price             0.051004\n",
       "2  first_time             0.002071"
      ]
     },
     "execution_count": 15,
     "metadata": {},
     "output_type": "execute_result"
    }
   ],
   "source": [
    "dt_coef = pd.DataFrame(zip(X_train.columns, np.transpose(dt.feature_importances_)), columns=['features', 'feature_importances'])\n",
    "\n",
    "dt_coef.sort_values(\"feature_importances\", ascending=False)"
   ]
  },
  {
   "cell_type": "code",
   "execution_count": 16,
   "metadata": {},
   "outputs": [
    {
     "name": "stdout",
     "output_type": "stream",
     "text": [
      "Best Score: 0.7178\n",
      "Best Prams {'classifier__splitter': 'best', 'classifier__min_samples_split': 3, 'classifier__min_samples_leaf': 15, 'classifier__max_depth': 5, 'classifier__criterion': 'gini'}\n"
     ]
    },
    {
     "data": {
      "text/html": [
       "<style>#sk-container-id-2 {color: black;background-color: white;}#sk-container-id-2 pre{padding: 0;}#sk-container-id-2 div.sk-toggleable {background-color: white;}#sk-container-id-2 label.sk-toggleable__label {cursor: pointer;display: block;width: 100%;margin-bottom: 0;padding: 0.3em;box-sizing: border-box;text-align: center;}#sk-container-id-2 label.sk-toggleable__label-arrow:before {content: \"▸\";float: left;margin-right: 0.25em;color: #696969;}#sk-container-id-2 label.sk-toggleable__label-arrow:hover:before {color: black;}#sk-container-id-2 div.sk-estimator:hover label.sk-toggleable__label-arrow:before {color: black;}#sk-container-id-2 div.sk-toggleable__content {max-height: 0;max-width: 0;overflow: hidden;text-align: left;background-color: #f0f8ff;}#sk-container-id-2 div.sk-toggleable__content pre {margin: 0.2em;color: black;border-radius: 0.25em;background-color: #f0f8ff;}#sk-container-id-2 input.sk-toggleable__control:checked~div.sk-toggleable__content {max-height: 200px;max-width: 100%;overflow: auto;}#sk-container-id-2 input.sk-toggleable__control:checked~label.sk-toggleable__label-arrow:before {content: \"▾\";}#sk-container-id-2 div.sk-estimator input.sk-toggleable__control:checked~label.sk-toggleable__label {background-color: #d4ebff;}#sk-container-id-2 div.sk-label input.sk-toggleable__control:checked~label.sk-toggleable__label {background-color: #d4ebff;}#sk-container-id-2 input.sk-hidden--visually {border: 0;clip: rect(1px 1px 1px 1px);clip: rect(1px, 1px, 1px, 1px);height: 1px;margin: -1px;overflow: hidden;padding: 0;position: absolute;width: 1px;}#sk-container-id-2 div.sk-estimator {font-family: monospace;background-color: #f0f8ff;border: 1px dotted black;border-radius: 0.25em;box-sizing: border-box;margin-bottom: 0.5em;}#sk-container-id-2 div.sk-estimator:hover {background-color: #d4ebff;}#sk-container-id-2 div.sk-parallel-item::after {content: \"\";width: 100%;border-bottom: 1px solid gray;flex-grow: 1;}#sk-container-id-2 div.sk-label:hover label.sk-toggleable__label {background-color: #d4ebff;}#sk-container-id-2 div.sk-serial::before {content: \"\";position: absolute;border-left: 1px solid gray;box-sizing: border-box;top: 0;bottom: 0;left: 50%;z-index: 0;}#sk-container-id-2 div.sk-serial {display: flex;flex-direction: column;align-items: center;background-color: white;padding-right: 0.2em;padding-left: 0.2em;position: relative;}#sk-container-id-2 div.sk-item {position: relative;z-index: 1;}#sk-container-id-2 div.sk-parallel {display: flex;align-items: stretch;justify-content: center;background-color: white;position: relative;}#sk-container-id-2 div.sk-item::before, #sk-container-id-2 div.sk-parallel-item::before {content: \"\";position: absolute;border-left: 1px solid gray;box-sizing: border-box;top: 0;bottom: 0;left: 50%;z-index: -1;}#sk-container-id-2 div.sk-parallel-item {display: flex;flex-direction: column;z-index: 1;position: relative;background-color: white;}#sk-container-id-2 div.sk-parallel-item:first-child::after {align-self: flex-end;width: 50%;}#sk-container-id-2 div.sk-parallel-item:last-child::after {align-self: flex-start;width: 50%;}#sk-container-id-2 div.sk-parallel-item:only-child::after {width: 0;}#sk-container-id-2 div.sk-dashed-wrapped {border: 1px dashed gray;margin: 0 0.4em 0.5em 0.4em;box-sizing: border-box;padding-bottom: 0.4em;background-color: white;}#sk-container-id-2 div.sk-label label {font-family: monospace;font-weight: bold;display: inline-block;line-height: 1.2em;}#sk-container-id-2 div.sk-label-container {text-align: center;}#sk-container-id-2 div.sk-container {/* jupyter's `normalize.less` sets `[hidden] { display: none; }` but bootstrap.min.css set `[hidden] { display: none !important; }` so we also need the `!important` here to be able to override the default hidden behavior on the sphinx rendered scikit-learn.org. See: https://github.com/scikit-learn/scikit-learn/issues/21755 */display: inline-block !important;position: relative;}#sk-container-id-2 div.sk-text-repr-fallback {display: none;}</style><div id=\"sk-container-id-2\" class=\"sk-top-container\"><div class=\"sk-text-repr-fallback\"><pre>Pipeline(steps=[(&#x27;column_transfomer&#x27;,\n",
       "                 ColumnTransformer(transformers=[(&#x27;ore2&#x27;,\n",
       "                                                  OrdinalEncoder(encoded_missing_value=-1),\n",
       "                                                  [&#x27;branch&#x27;, &#x27;first_time&#x27;,\n",
       "                                                   &#x27;platform&#x27;, &#x27;country&#x27;]),\n",
       "                                                 (&#x27;num2&#x27;,\n",
       "                                                  Pipeline(steps=[(&#x27;sim1&#x27;,\n",
       "                                                                   SimpleImputer()),\n",
       "                                                                  (&#x27;bin1&#x27;,\n",
       "                                                                   KBinsDiscretizer(encode=&#x27;ordinal&#x27;,\n",
       "                                                                                    strategy=&#x27;uniform&#x27;))]),\n",
       "                                                  [&#x27;SGD_price&#x27;])])),\n",
       "                (&#x27;classifier&#x27;,\n",
       "                 DecisionTreeClassifier(max_depth=5, min_samples_leaf=15,\n",
       "                                        min_samples_split=3,\n",
       "                                        random_state=11))])</pre><b>In a Jupyter environment, please rerun this cell to show the HTML representation or trust the notebook. <br />On GitHub, the HTML representation is unable to render, please try loading this page with nbviewer.org.</b></div><div class=\"sk-container\" hidden><div class=\"sk-item sk-dashed-wrapped\"><div class=\"sk-label-container\"><div class=\"sk-label sk-toggleable\"><input class=\"sk-toggleable__control sk-hidden--visually\" id=\"sk-estimator-id-11\" type=\"checkbox\" ><label for=\"sk-estimator-id-11\" class=\"sk-toggleable__label sk-toggleable__label-arrow\">Pipeline</label><div class=\"sk-toggleable__content\"><pre>Pipeline(steps=[(&#x27;column_transfomer&#x27;,\n",
       "                 ColumnTransformer(transformers=[(&#x27;ore2&#x27;,\n",
       "                                                  OrdinalEncoder(encoded_missing_value=-1),\n",
       "                                                  [&#x27;branch&#x27;, &#x27;first_time&#x27;,\n",
       "                                                   &#x27;platform&#x27;, &#x27;country&#x27;]),\n",
       "                                                 (&#x27;num2&#x27;,\n",
       "                                                  Pipeline(steps=[(&#x27;sim1&#x27;,\n",
       "                                                                   SimpleImputer()),\n",
       "                                                                  (&#x27;bin1&#x27;,\n",
       "                                                                   KBinsDiscretizer(encode=&#x27;ordinal&#x27;,\n",
       "                                                                                    strategy=&#x27;uniform&#x27;))]),\n",
       "                                                  [&#x27;SGD_price&#x27;])])),\n",
       "                (&#x27;classifier&#x27;,\n",
       "                 DecisionTreeClassifier(max_depth=5, min_samples_leaf=15,\n",
       "                                        min_samples_split=3,\n",
       "                                        random_state=11))])</pre></div></div></div><div class=\"sk-serial\"><div class=\"sk-item sk-dashed-wrapped\"><div class=\"sk-label-container\"><div class=\"sk-label sk-toggleable\"><input class=\"sk-toggleable__control sk-hidden--visually\" id=\"sk-estimator-id-12\" type=\"checkbox\" ><label for=\"sk-estimator-id-12\" class=\"sk-toggleable__label sk-toggleable__label-arrow\">column_transfomer: ColumnTransformer</label><div class=\"sk-toggleable__content\"><pre>ColumnTransformer(transformers=[(&#x27;ore2&#x27;,\n",
       "                                 OrdinalEncoder(encoded_missing_value=-1),\n",
       "                                 [&#x27;branch&#x27;, &#x27;first_time&#x27;, &#x27;platform&#x27;,\n",
       "                                  &#x27;country&#x27;]),\n",
       "                                (&#x27;num2&#x27;,\n",
       "                                 Pipeline(steps=[(&#x27;sim1&#x27;, SimpleImputer()),\n",
       "                                                 (&#x27;bin1&#x27;,\n",
       "                                                  KBinsDiscretizer(encode=&#x27;ordinal&#x27;,\n",
       "                                                                   strategy=&#x27;uniform&#x27;))]),\n",
       "                                 [&#x27;SGD_price&#x27;])])</pre></div></div></div><div class=\"sk-parallel\"><div class=\"sk-parallel-item\"><div class=\"sk-item\"><div class=\"sk-label-container\"><div class=\"sk-label sk-toggleable\"><input class=\"sk-toggleable__control sk-hidden--visually\" id=\"sk-estimator-id-13\" type=\"checkbox\" ><label for=\"sk-estimator-id-13\" class=\"sk-toggleable__label sk-toggleable__label-arrow\">ore2</label><div class=\"sk-toggleable__content\"><pre>[&#x27;branch&#x27;, &#x27;first_time&#x27;, &#x27;platform&#x27;, &#x27;country&#x27;]</pre></div></div></div><div class=\"sk-serial\"><div class=\"sk-item\"><div class=\"sk-estimator sk-toggleable\"><input class=\"sk-toggleable__control sk-hidden--visually\" id=\"sk-estimator-id-14\" type=\"checkbox\" ><label for=\"sk-estimator-id-14\" class=\"sk-toggleable__label sk-toggleable__label-arrow\">OrdinalEncoder</label><div class=\"sk-toggleable__content\"><pre>OrdinalEncoder(encoded_missing_value=-1)</pre></div></div></div></div></div></div><div class=\"sk-parallel-item\"><div class=\"sk-item\"><div class=\"sk-label-container\"><div class=\"sk-label sk-toggleable\"><input class=\"sk-toggleable__control sk-hidden--visually\" id=\"sk-estimator-id-15\" type=\"checkbox\" ><label for=\"sk-estimator-id-15\" class=\"sk-toggleable__label sk-toggleable__label-arrow\">num2</label><div class=\"sk-toggleable__content\"><pre>[&#x27;SGD_price&#x27;]</pre></div></div></div><div class=\"sk-serial\"><div class=\"sk-item\"><div class=\"sk-serial\"><div class=\"sk-item\"><div class=\"sk-estimator sk-toggleable\"><input class=\"sk-toggleable__control sk-hidden--visually\" id=\"sk-estimator-id-16\" type=\"checkbox\" ><label for=\"sk-estimator-id-16\" class=\"sk-toggleable__label sk-toggleable__label-arrow\">SimpleImputer</label><div class=\"sk-toggleable__content\"><pre>SimpleImputer()</pre></div></div></div><div class=\"sk-item\"><div class=\"sk-estimator sk-toggleable\"><input class=\"sk-toggleable__control sk-hidden--visually\" id=\"sk-estimator-id-17\" type=\"checkbox\" ><label for=\"sk-estimator-id-17\" class=\"sk-toggleable__label sk-toggleable__label-arrow\">KBinsDiscretizer</label><div class=\"sk-toggleable__content\"><pre>KBinsDiscretizer(encode=&#x27;ordinal&#x27;, strategy=&#x27;uniform&#x27;)</pre></div></div></div></div></div></div></div></div></div></div><div class=\"sk-item\"><div class=\"sk-estimator sk-toggleable\"><input class=\"sk-toggleable__control sk-hidden--visually\" id=\"sk-estimator-id-18\" type=\"checkbox\" ><label for=\"sk-estimator-id-18\" class=\"sk-toggleable__label sk-toggleable__label-arrow\">DecisionTreeClassifier</label><div class=\"sk-toggleable__content\"><pre>DecisionTreeClassifier(max_depth=5, min_samples_leaf=15, min_samples_split=3,\n",
       "                       random_state=11)</pre></div></div></div></div></div></div></div>"
      ],
      "text/plain": [
       "Pipeline(steps=[('column_transfomer',\n",
       "                 ColumnTransformer(transformers=[('ore2',\n",
       "                                                  OrdinalEncoder(encoded_missing_value=-1),\n",
       "                                                  ['branch', 'first_time',\n",
       "                                                   'platform', 'country']),\n",
       "                                                 ('num2',\n",
       "                                                  Pipeline(steps=[('sim1',\n",
       "                                                                   SimpleImputer()),\n",
       "                                                                  ('bin1',\n",
       "                                                                   KBinsDiscretizer(encode='ordinal',\n",
       "                                                                                    strategy='uniform'))]),\n",
       "                                                  ['SGD_price'])])),\n",
       "                ('classifier',\n",
       "                 DecisionTreeClassifier(max_depth=5, min_samples_leaf=15,\n",
       "                                        min_samples_split=3,\n",
       "                                        random_state=11))])"
      ]
     },
     "execution_count": 16,
     "metadata": {},
     "output_type": "execute_result"
    }
   ],
   "source": [
    "params = {}\n",
    "params[\"classifier__max_depth\"] = [2, 5, 15]\n",
    "params[\"classifier__min_samples_split\"] = [2, 3, 5, 10]\n",
    "params[\"classifier__min_samples_leaf\"] = [ 10, 15, 20]\n",
    "params[\"classifier__criterion\"] = [\"gini\", \"log_loss\"]\n",
    "params[\"classifier__splitter\"] = [\"best\", \"random\"]\n",
    "\n",
    "dt_grid = RandomizedSearchCV(dt_pipe, cv=5, param_distributions=params)\n",
    "dt_grid.fit(X, Y)\n",
    "print(f\"Best Score: {dt_grid.best_score_:.4f}\")\n",
    "print(f\"Best Prams {dt_grid.best_params_}\")\n",
    "dt_grid.best_estimator_"
   ]
  },
  {
   "cell_type": "markdown",
   "metadata": {},
   "source": [
    "### Random Forest"
   ]
  },
  {
   "cell_type": "code",
   "execution_count": 18,
   "metadata": {},
   "outputs": [
    {
     "name": "stdout",
     "output_type": "stream",
     "text": [
      "Train Set\n",
      "Accuracy: 71.75%, Precision: 69.23%\n",
      "Test Set\n",
      "Accuracy: 71.85%, Precision: 69.48%\n"
     ]
    }
   ],
   "source": [
    "rf = RandomForestClassifier(\n",
    "                    n_estimators=450,\n",
    "                    criterion='log_loss',\n",
    "                    max_depth=15,\n",
    "                    min_samples_split=50,\n",
    "                    min_samples_leaf=70,\n",
    "                    max_leaf_nodes=35,\n",
    "                    max_features=None,\n",
    "                    random_state=11\n",
    "                )\n",
    "price_transformer = Pipeline([\n",
    "                            (\"sim1\", SimpleImputer(strategy=\"mean\")),\n",
    "                            (\"bin1\", KBinsDiscretizer(n_bins=5, encode=\"ordinal\", strategy=\"uniform\"))\n",
    "                        ])\n",
    "ct = ColumnTransformer(\n",
    "                [\n",
    "                    (\"ore2\", OrdinalEncoder(encoded_missing_value=-1), [\"branch\", \"first_time\", \"platform\", \"country\"]),\n",
    "                    (\"num2\", price_transformer, [\"SGD_price\"])\n",
    "                ],\n",
    "                remainder=\"drop\",\n",
    "            )\n",
    "rf_pipe = Pipeline([(\"column_transfomer\", ct), (\"classifier\", rf)])\n",
    "rf_pipe.fit(X_train, y_train)\n",
    "rf_y_pred_train = rf_pipe.predict(X_train)\n",
    "\n",
    "acc_train = accuracy_score(y_train, rf_y_pred_train)\n",
    "prec_train = precision_score(y_train, rf_y_pred_train)\n",
    "print(\"Train Set\")\n",
    "print(f\"Accuracy: {acc_train*100:.2f}%, Precision: {prec_train*100:.2f}%\")\n",
    "\n",
    "rf_pipe.fit(X_test, y_test)\n",
    "rf_y_pred_test = rf_pipe.predict(X_test)\n",
    "\n",
    "acc_test = accuracy_score(y_test, rf_y_pred_test)\n",
    "prec_test = precision_score(y_test, rf_y_pred_test)\n",
    "print(\"Test Set\")\n",
    "print(f\"Accuracy: {acc_test*100:.2f}%, Precision: {prec_test*100:.2f}%\")"
   ]
  },
  {
   "cell_type": "code",
   "execution_count": 19,
   "metadata": {},
   "outputs": [
    {
     "data": {
      "text/html": [
       "<div>\n",
       "<style scoped>\n",
       "    .dataframe tbody tr th:only-of-type {\n",
       "        vertical-align: middle;\n",
       "    }\n",
       "\n",
       "    .dataframe tbody tr th {\n",
       "        vertical-align: top;\n",
       "    }\n",
       "\n",
       "    .dataframe thead th {\n",
       "        text-align: right;\n",
       "    }\n",
       "</style>\n",
       "<table border=\"1\" class=\"dataframe\">\n",
       "  <thead>\n",
       "    <tr style=\"text-align: right;\">\n",
       "      <th></th>\n",
       "      <th>features</th>\n",
       "      <th>feature_importances</th>\n",
       "    </tr>\n",
       "  </thead>\n",
       "  <tbody>\n",
       "    <tr>\n",
       "      <th>3</th>\n",
       "      <td>platform</td>\n",
       "      <td>0.671098</td>\n",
       "    </tr>\n",
       "    <tr>\n",
       "      <th>0</th>\n",
       "      <td>branch</td>\n",
       "      <td>0.161779</td>\n",
       "    </tr>\n",
       "    <tr>\n",
       "      <th>1</th>\n",
       "      <td>country</td>\n",
       "      <td>0.106549</td>\n",
       "    </tr>\n",
       "    <tr>\n",
       "      <th>4</th>\n",
       "      <td>SGD_price</td>\n",
       "      <td>0.051458</td>\n",
       "    </tr>\n",
       "    <tr>\n",
       "      <th>2</th>\n",
       "      <td>first_time</td>\n",
       "      <td>0.009115</td>\n",
       "    </tr>\n",
       "  </tbody>\n",
       "</table>\n",
       "</div>"
      ],
      "text/plain": [
       "     features  feature_importances\n",
       "3    platform             0.671098\n",
       "0      branch             0.161779\n",
       "1     country             0.106549\n",
       "4   SGD_price             0.051458\n",
       "2  first_time             0.009115"
      ]
     },
     "execution_count": 19,
     "metadata": {},
     "output_type": "execute_result"
    }
   ],
   "source": [
    "rf_coef = pd.DataFrame(zip(X_train.columns, np.transpose(rf.feature_importances_)), columns=['features', 'feature_importances'])\n",
    "\n",
    "rf_coef.sort_values(\"feature_importances\", ascending=False)"
   ]
  },
  {
   "cell_type": "code",
   "execution_count": 20,
   "metadata": {},
   "outputs": [
    {
     "name": "stdout",
     "output_type": "stream",
     "text": [
      "Fitting 3 folds for each of 10 candidates, totalling 30 fits\n",
      "Best Score: 0.7178\n",
      "Best Prams {'classifier__n_estimators': 600, 'classifier__min_samples_split': 60, 'classifier__min_samples_leaf': 80, 'classifier__max_leaf_nodes': 40, 'classifier__max_features': 'log2', 'classifier__max_depth': 15, 'classifier__criterion': 'log_loss'}\n"
     ]
    },
    {
     "data": {
      "text/html": [
       "<style>#sk-container-id-3 {color: black;background-color: white;}#sk-container-id-3 pre{padding: 0;}#sk-container-id-3 div.sk-toggleable {background-color: white;}#sk-container-id-3 label.sk-toggleable__label {cursor: pointer;display: block;width: 100%;margin-bottom: 0;padding: 0.3em;box-sizing: border-box;text-align: center;}#sk-container-id-3 label.sk-toggleable__label-arrow:before {content: \"▸\";float: left;margin-right: 0.25em;color: #696969;}#sk-container-id-3 label.sk-toggleable__label-arrow:hover:before {color: black;}#sk-container-id-3 div.sk-estimator:hover label.sk-toggleable__label-arrow:before {color: black;}#sk-container-id-3 div.sk-toggleable__content {max-height: 0;max-width: 0;overflow: hidden;text-align: left;background-color: #f0f8ff;}#sk-container-id-3 div.sk-toggleable__content pre {margin: 0.2em;color: black;border-radius: 0.25em;background-color: #f0f8ff;}#sk-container-id-3 input.sk-toggleable__control:checked~div.sk-toggleable__content {max-height: 200px;max-width: 100%;overflow: auto;}#sk-container-id-3 input.sk-toggleable__control:checked~label.sk-toggleable__label-arrow:before {content: \"▾\";}#sk-container-id-3 div.sk-estimator input.sk-toggleable__control:checked~label.sk-toggleable__label {background-color: #d4ebff;}#sk-container-id-3 div.sk-label input.sk-toggleable__control:checked~label.sk-toggleable__label {background-color: #d4ebff;}#sk-container-id-3 input.sk-hidden--visually {border: 0;clip: rect(1px 1px 1px 1px);clip: rect(1px, 1px, 1px, 1px);height: 1px;margin: -1px;overflow: hidden;padding: 0;position: absolute;width: 1px;}#sk-container-id-3 div.sk-estimator {font-family: monospace;background-color: #f0f8ff;border: 1px dotted black;border-radius: 0.25em;box-sizing: border-box;margin-bottom: 0.5em;}#sk-container-id-3 div.sk-estimator:hover {background-color: #d4ebff;}#sk-container-id-3 div.sk-parallel-item::after {content: \"\";width: 100%;border-bottom: 1px solid gray;flex-grow: 1;}#sk-container-id-3 div.sk-label:hover label.sk-toggleable__label {background-color: #d4ebff;}#sk-container-id-3 div.sk-serial::before {content: \"\";position: absolute;border-left: 1px solid gray;box-sizing: border-box;top: 0;bottom: 0;left: 50%;z-index: 0;}#sk-container-id-3 div.sk-serial {display: flex;flex-direction: column;align-items: center;background-color: white;padding-right: 0.2em;padding-left: 0.2em;position: relative;}#sk-container-id-3 div.sk-item {position: relative;z-index: 1;}#sk-container-id-3 div.sk-parallel {display: flex;align-items: stretch;justify-content: center;background-color: white;position: relative;}#sk-container-id-3 div.sk-item::before, #sk-container-id-3 div.sk-parallel-item::before {content: \"\";position: absolute;border-left: 1px solid gray;box-sizing: border-box;top: 0;bottom: 0;left: 50%;z-index: -1;}#sk-container-id-3 div.sk-parallel-item {display: flex;flex-direction: column;z-index: 1;position: relative;background-color: white;}#sk-container-id-3 div.sk-parallel-item:first-child::after {align-self: flex-end;width: 50%;}#sk-container-id-3 div.sk-parallel-item:last-child::after {align-self: flex-start;width: 50%;}#sk-container-id-3 div.sk-parallel-item:only-child::after {width: 0;}#sk-container-id-3 div.sk-dashed-wrapped {border: 1px dashed gray;margin: 0 0.4em 0.5em 0.4em;box-sizing: border-box;padding-bottom: 0.4em;background-color: white;}#sk-container-id-3 div.sk-label label {font-family: monospace;font-weight: bold;display: inline-block;line-height: 1.2em;}#sk-container-id-3 div.sk-label-container {text-align: center;}#sk-container-id-3 div.sk-container {/* jupyter's `normalize.less` sets `[hidden] { display: none; }` but bootstrap.min.css set `[hidden] { display: none !important; }` so we also need the `!important` here to be able to override the default hidden behavior on the sphinx rendered scikit-learn.org. See: https://github.com/scikit-learn/scikit-learn/issues/21755 */display: inline-block !important;position: relative;}#sk-container-id-3 div.sk-text-repr-fallback {display: none;}</style><div id=\"sk-container-id-3\" class=\"sk-top-container\"><div class=\"sk-text-repr-fallback\"><pre>Pipeline(steps=[(&#x27;column_transfomer&#x27;,\n",
       "                 ColumnTransformer(transformers=[(&#x27;ore2&#x27;,\n",
       "                                                  OrdinalEncoder(encoded_missing_value=-1),\n",
       "                                                  [&#x27;branch&#x27;, &#x27;first_time&#x27;,\n",
       "                                                   &#x27;platform&#x27;, &#x27;country&#x27;]),\n",
       "                                                 (&#x27;num2&#x27;,\n",
       "                                                  Pipeline(steps=[(&#x27;sim1&#x27;,\n",
       "                                                                   SimpleImputer()),\n",
       "                                                                  (&#x27;bin1&#x27;,\n",
       "                                                                   KBinsDiscretizer(encode=&#x27;ordinal&#x27;,\n",
       "                                                                                    strategy=&#x27;uniform&#x27;))]),\n",
       "                                                  [&#x27;SGD_price&#x27;])])),\n",
       "                (&#x27;classifier&#x27;,\n",
       "                 RandomForestClassifier(criterion=&#x27;log_loss&#x27;, max_depth=15,\n",
       "                                        max_features=&#x27;log2&#x27;, max_leaf_nodes=40,\n",
       "                                        min_samples_leaf=80,\n",
       "                                        min_samples_split=60, n_estimators=600,\n",
       "                                        random_state=11))])</pre><b>In a Jupyter environment, please rerun this cell to show the HTML representation or trust the notebook. <br />On GitHub, the HTML representation is unable to render, please try loading this page with nbviewer.org.</b></div><div class=\"sk-container\" hidden><div class=\"sk-item sk-dashed-wrapped\"><div class=\"sk-label-container\"><div class=\"sk-label sk-toggleable\"><input class=\"sk-toggleable__control sk-hidden--visually\" id=\"sk-estimator-id-19\" type=\"checkbox\" ><label for=\"sk-estimator-id-19\" class=\"sk-toggleable__label sk-toggleable__label-arrow\">Pipeline</label><div class=\"sk-toggleable__content\"><pre>Pipeline(steps=[(&#x27;column_transfomer&#x27;,\n",
       "                 ColumnTransformer(transformers=[(&#x27;ore2&#x27;,\n",
       "                                                  OrdinalEncoder(encoded_missing_value=-1),\n",
       "                                                  [&#x27;branch&#x27;, &#x27;first_time&#x27;,\n",
       "                                                   &#x27;platform&#x27;, &#x27;country&#x27;]),\n",
       "                                                 (&#x27;num2&#x27;,\n",
       "                                                  Pipeline(steps=[(&#x27;sim1&#x27;,\n",
       "                                                                   SimpleImputer()),\n",
       "                                                                  (&#x27;bin1&#x27;,\n",
       "                                                                   KBinsDiscretizer(encode=&#x27;ordinal&#x27;,\n",
       "                                                                                    strategy=&#x27;uniform&#x27;))]),\n",
       "                                                  [&#x27;SGD_price&#x27;])])),\n",
       "                (&#x27;classifier&#x27;,\n",
       "                 RandomForestClassifier(criterion=&#x27;log_loss&#x27;, max_depth=15,\n",
       "                                        max_features=&#x27;log2&#x27;, max_leaf_nodes=40,\n",
       "                                        min_samples_leaf=80,\n",
       "                                        min_samples_split=60, n_estimators=600,\n",
       "                                        random_state=11))])</pre></div></div></div><div class=\"sk-serial\"><div class=\"sk-item sk-dashed-wrapped\"><div class=\"sk-label-container\"><div class=\"sk-label sk-toggleable\"><input class=\"sk-toggleable__control sk-hidden--visually\" id=\"sk-estimator-id-20\" type=\"checkbox\" ><label for=\"sk-estimator-id-20\" class=\"sk-toggleable__label sk-toggleable__label-arrow\">column_transfomer: ColumnTransformer</label><div class=\"sk-toggleable__content\"><pre>ColumnTransformer(transformers=[(&#x27;ore2&#x27;,\n",
       "                                 OrdinalEncoder(encoded_missing_value=-1),\n",
       "                                 [&#x27;branch&#x27;, &#x27;first_time&#x27;, &#x27;platform&#x27;,\n",
       "                                  &#x27;country&#x27;]),\n",
       "                                (&#x27;num2&#x27;,\n",
       "                                 Pipeline(steps=[(&#x27;sim1&#x27;, SimpleImputer()),\n",
       "                                                 (&#x27;bin1&#x27;,\n",
       "                                                  KBinsDiscretizer(encode=&#x27;ordinal&#x27;,\n",
       "                                                                   strategy=&#x27;uniform&#x27;))]),\n",
       "                                 [&#x27;SGD_price&#x27;])])</pre></div></div></div><div class=\"sk-parallel\"><div class=\"sk-parallel-item\"><div class=\"sk-item\"><div class=\"sk-label-container\"><div class=\"sk-label sk-toggleable\"><input class=\"sk-toggleable__control sk-hidden--visually\" id=\"sk-estimator-id-21\" type=\"checkbox\" ><label for=\"sk-estimator-id-21\" class=\"sk-toggleable__label sk-toggleable__label-arrow\">ore2</label><div class=\"sk-toggleable__content\"><pre>[&#x27;branch&#x27;, &#x27;first_time&#x27;, &#x27;platform&#x27;, &#x27;country&#x27;]</pre></div></div></div><div class=\"sk-serial\"><div class=\"sk-item\"><div class=\"sk-estimator sk-toggleable\"><input class=\"sk-toggleable__control sk-hidden--visually\" id=\"sk-estimator-id-22\" type=\"checkbox\" ><label for=\"sk-estimator-id-22\" class=\"sk-toggleable__label sk-toggleable__label-arrow\">OrdinalEncoder</label><div class=\"sk-toggleable__content\"><pre>OrdinalEncoder(encoded_missing_value=-1)</pre></div></div></div></div></div></div><div class=\"sk-parallel-item\"><div class=\"sk-item\"><div class=\"sk-label-container\"><div class=\"sk-label sk-toggleable\"><input class=\"sk-toggleable__control sk-hidden--visually\" id=\"sk-estimator-id-23\" type=\"checkbox\" ><label for=\"sk-estimator-id-23\" class=\"sk-toggleable__label sk-toggleable__label-arrow\">num2</label><div class=\"sk-toggleable__content\"><pre>[&#x27;SGD_price&#x27;]</pre></div></div></div><div class=\"sk-serial\"><div class=\"sk-item\"><div class=\"sk-serial\"><div class=\"sk-item\"><div class=\"sk-estimator sk-toggleable\"><input class=\"sk-toggleable__control sk-hidden--visually\" id=\"sk-estimator-id-24\" type=\"checkbox\" ><label for=\"sk-estimator-id-24\" class=\"sk-toggleable__label sk-toggleable__label-arrow\">SimpleImputer</label><div class=\"sk-toggleable__content\"><pre>SimpleImputer()</pre></div></div></div><div class=\"sk-item\"><div class=\"sk-estimator sk-toggleable\"><input class=\"sk-toggleable__control sk-hidden--visually\" id=\"sk-estimator-id-25\" type=\"checkbox\" ><label for=\"sk-estimator-id-25\" class=\"sk-toggleable__label sk-toggleable__label-arrow\">KBinsDiscretizer</label><div class=\"sk-toggleable__content\"><pre>KBinsDiscretizer(encode=&#x27;ordinal&#x27;, strategy=&#x27;uniform&#x27;)</pre></div></div></div></div></div></div></div></div></div></div><div class=\"sk-item\"><div class=\"sk-estimator sk-toggleable\"><input class=\"sk-toggleable__control sk-hidden--visually\" id=\"sk-estimator-id-26\" type=\"checkbox\" ><label for=\"sk-estimator-id-26\" class=\"sk-toggleable__label sk-toggleable__label-arrow\">RandomForestClassifier</label><div class=\"sk-toggleable__content\"><pre>RandomForestClassifier(criterion=&#x27;log_loss&#x27;, max_depth=15, max_features=&#x27;log2&#x27;,\n",
       "                       max_leaf_nodes=40, min_samples_leaf=80,\n",
       "                       min_samples_split=60, n_estimators=600, random_state=11)</pre></div></div></div></div></div></div></div>"
      ],
      "text/plain": [
       "Pipeline(steps=[('column_transfomer',\n",
       "                 ColumnTransformer(transformers=[('ore2',\n",
       "                                                  OrdinalEncoder(encoded_missing_value=-1),\n",
       "                                                  ['branch', 'first_time',\n",
       "                                                   'platform', 'country']),\n",
       "                                                 ('num2',\n",
       "                                                  Pipeline(steps=[('sim1',\n",
       "                                                                   SimpleImputer()),\n",
       "                                                                  ('bin1',\n",
       "                                                                   KBinsDiscretizer(encode='ordinal',\n",
       "                                                                                    strategy='uniform'))]),\n",
       "                                                  ['SGD_price'])])),\n",
       "                ('classifier',\n",
       "                 RandomForestClassifier(criterion='log_loss', max_depth=15,\n",
       "                                        max_features='log2', max_leaf_nodes=40,\n",
       "                                        min_samples_leaf=80,\n",
       "                                        min_samples_split=60, n_estimators=600,\n",
       "                                        random_state=11))])"
      ]
     },
     "execution_count": 20,
     "metadata": {},
     "output_type": "execute_result"
    }
   ],
   "source": [
    "params = {}\n",
    "params[\"classifier__n_estimators\"] = [600, 700]\n",
    "params[\"classifier__criterion\"] = [\"gini\", \"log_loss\"]\n",
    "params[\"classifier__max_depth\"] = [15, 20]\n",
    "params[\"classifier__min_samples_split\"] = [50, 60]\n",
    "params[\"classifier__min_samples_leaf\"] = [80, 100]\n",
    "params[\"classifier__max_leaf_nodes\"] = [40, 50]\n",
    "params[\"classifier__max_features\"] = [\"sqrt\", \"log2\", None]\n",
    "\n",
    "rf_grid = RandomizedSearchCV(rf_pipe, cv=3, param_distributions=params, verbose=1)\n",
    "rf_grid.fit(X, Y)\n",
    "print(f\"Best Score: {rf_grid.best_score_:.4f}\")\n",
    "print(f\"Best Prams {rf_grid.best_params_}\")\n",
    "rf_grid.best_estimator_"
   ]
  },
  {
   "cell_type": "markdown",
   "metadata": {},
   "source": [
    "AUC-ROC Curves"
   ]
  },
  {
   "cell_type": "code",
   "execution_count": 21,
   "metadata": {},
   "outputs": [
    {
     "data": {
      "image/png": "[encoded data removed]",
      "text/plain": [
       "<Figure size 432x288 with 1 Axes>"
      ]
     },
     "metadata": {
      "needs_background": "light"
     },
     "output_type": "display_data"
    },
    {
     "name": "stdout",
     "output_type": "stream",
     "text": [
      "Logistic Regression ROC-Score: 0.6543\n",
      "Decision Tree Classifier ROC-Score: 0.7328\n",
      "Random Forest Classifier ROC-Score: 0.7356\n"
     ]
    }
   ],
   "source": [
    "\n",
    "dis = RocCurveDisplay.from_estimator(lr_pipe, X, Y, label=\"Logistic Regression\")\n",
    "RocCurveDisplay.from_estimator(dt_pipe, X, Y, ax=dis.ax_, label=\"Decision Tree\")\n",
    "RocCurveDisplay.from_estimator(rf_pipe, X, Y, ax=dis.ax_, label=\"Random Forest\")\n",
    "plt.plot([0, 1], [0, 1], color=\"navy\", linestyle=\"--\")\n",
    "plt.title(\"Logistic Regression ROC-Curve Comparison\")\n",
    "plt.xlabel(\"False Positve Rate\")\n",
    "plt.ylabel(\"True Positive Rate\")\n",
    "plt.grid(True)\n",
    "plt.legend(loc='lower right')\n",
    "plt.show()\n",
    "\n",
    "lr_roc_score = roc_auc_score(y_test, lr_pipe.predict_proba(X_test)[:,1])\n",
    "dt_roc_score = roc_auc_score(y_test, dt_pipe.predict_proba(X_test)[:,1])\n",
    "rf_roc_score = roc_auc_score(y_test, rf_pipe.predict_proba(X_test)[:,1])\n",
    "print(f\"Logistic Regression ROC-Score: {lr_roc_score:.4f}\")\n",
    "print(f\"Decision Tree Classifier ROC-Score: {dt_roc_score:.4f}\")\n",
    "print(f\"Random Forest Classifier ROC-Score: {rf_roc_score:.4f}\")"
   ]
  },
  {
   "cell_type": "code",
   "execution_count": 13,
   "metadata": {},
   "outputs": [
    {
     "name": "stdout",
     "output_type": "stream",
     "text": [
      "The model predicts No-Show to be True.\n",
      "The prediction probability is 0.6923.\n",
      "The model used for prediction was Decision Tree Classifier.\n"
     ]
    }
   ],
   "source": [
    "import pandas as pd\n",
    "from src.app_func.preprocess import Preprocesor\n",
    "from src.app_func.mlpipe import MLpipeline\n",
    "\n",
    "df = Preprocesor().preprocess_df()\n",
    "drop = [\"booking_id\", \"booking_month\", \"arrival_month\", \"arrival_day\", \"checkout_month\", \"checkout_day\" , \"price\", \"num_adults\", \"num_children\", \"currency\", \"room\"]\n",
    "df = df.drop(labels=drop, axis=1)\n",
    "\n",
    "country = \"China\"\n",
    "platform = \"Website\"\n",
    "branch = \"Changi\"\n",
    "first_time = \"True\"\n",
    "amount = 1000.00\n",
    "\n",
    "pred_row = pd.DataFrame({\"country\": str(country), \"platform\": str(platform), \"branch\": str(branch), \"first_time\":bool(first_time), \"SGD_price\": float(amount) }, index=[0])\n",
    "\n",
    "model_name, y_pred_prob, y_pred_test = MLpipeline().frontend_output(df, pred_row)\n",
    "y_pred_test = y_pred_test[0]\n",
    "if y_pred_test:\n",
    "    y_pred_prob = y_pred_prob[0][1]\n",
    "else:\n",
    "    y_pred_prob = y_pred_prob[0][0]\n",
    "\n",
    "print(f\"The model predicts No-Show to be {y_pred_test}.\")\n",
    "print(f\"The prediction probability is {y_pred_prob:.4f}.\")\n",
    "print(f\"The model used for prediction was {model_name}.\")"
   ]
  },
  {
   "cell_type": "code",
   "execution_count": null,
   "metadata": {},
   "outputs": [],
   "source": []
  }
 ],
 "metadata": {
  "kernelspec": {
   "display_name": "Python 3.9.0 ('aiap11')",
   "language": "python",
   "name": "python3"
  },
  "language_info": {
   "codemirror_mode": {
    "name": "ipython",
    "version": 3
   },
   "file_extension": ".py",
   "mimetype": "text/x-python",
   "name": "python",
   "nbconvert_exporter": "python",
   "pygments_lexer": "ipython3",
   "version": "3.9.0"
  },
  "orig_nbformat": 4,
  "vscode": {
   "interpreter": {
    "hash": "91ac14c5fbae9d9e880b919d322c7c5d56f047ce3dbee4dc0a7ad0e4740eff62"
   }
  }
 },
 "nbformat": 4,
 "nbformat_minor": 2
}
